{
 "cells": [
  {
   "cell_type": "markdown",
   "id": "f05cf832",
   "metadata": {
    "papermill": {
     "duration": 0.005364,
     "end_time": "2024-01-28T13:12:01.826756",
     "exception": false,
     "start_time": "2024-01-28T13:12:01.821392",
     "status": "completed"
    },
    "tags": []
   },
   "source": [
    "# Minimum Working Solution DL Engima 1.0"
   ]
  },
  {
   "cell_type": "markdown",
   "id": "597197f5",
   "metadata": {
    "papermill": {
     "duration": 0.004436,
     "end_time": "2024-01-28T13:12:01.836062",
     "exception": false,
     "start_time": "2024-01-28T13:12:01.831626",
     "status": "completed"
    },
    "tags": []
   },
   "source": [
    "#### This notebook was inspired from [here](https://www.kaggle.com/code/sameen53/yolov8-minimum-working-sample)"
   ]
  },
  {
   "cell_type": "code",
   "execution_count": 1,
   "id": "87e4443a",
   "metadata": {
    "execution": {
     "iopub.execute_input": "2024-01-28T13:12:01.846865Z",
     "iopub.status.busy": "2024-01-28T13:12:01.846524Z",
     "iopub.status.idle": "2024-01-28T13:12:02.711199Z",
     "shell.execute_reply": "2024-01-28T13:12:02.710414Z"
    },
    "papermill": {
     "duration": 0.872616,
     "end_time": "2024-01-28T13:12:02.713405",
     "exception": false,
     "start_time": "2024-01-28T13:12:01.840789",
     "status": "completed"
    },
    "tags": []
   },
   "outputs": [],
   "source": [
    "# basic libraries ...\n",
    "\n",
    "import os\n",
    "import numpy as np\n",
    "import pandas as pd\n",
    "from tqdm import tqdm"
   ]
  },
  {
   "cell_type": "code",
   "execution_count": 2,
   "id": "256182f8",
   "metadata": {
    "execution": {
     "iopub.execute_input": "2024-01-28T13:12:02.724208Z",
     "iopub.status.busy": "2024-01-28T13:12:02.723835Z",
     "iopub.status.idle": "2024-01-28T13:12:17.653677Z",
     "shell.execute_reply": "2024-01-28T13:12:17.652545Z"
    },
    "papermill": {
     "duration": 14.937763,
     "end_time": "2024-01-28T13:12:17.656150",
     "exception": false,
     "start_time": "2024-01-28T13:12:02.718387",
     "status": "completed"
    },
    "tags": []
   },
   "outputs": [],
   "source": [
    "# ultrlytics ...\n",
    "\n",
    "!pip install ultralytics -q"
   ]
  },
  {
   "cell_type": "code",
   "execution_count": 3,
   "id": "c10a409c",
   "metadata": {
    "execution": {
     "iopub.execute_input": "2024-01-28T13:12:17.669849Z",
     "iopub.status.busy": "2024-01-28T13:12:17.669490Z",
     "iopub.status.idle": "2024-01-28T13:12:22.077080Z",
     "shell.execute_reply": "2024-01-28T13:12:22.076198Z"
    },
    "papermill": {
     "duration": 4.416464,
     "end_time": "2024-01-28T13:12:22.079419",
     "exception": false,
     "start_time": "2024-01-28T13:12:17.662955",
     "status": "completed"
    },
    "tags": []
   },
   "outputs": [],
   "source": [
    "# yolo ...\n",
    "\n",
    "from ultralytics import YOLO"
   ]
  },
  {
   "cell_type": "code",
   "execution_count": 4,
   "id": "1b884841",
   "metadata": {
    "execution": {
     "iopub.execute_input": "2024-01-28T13:12:22.090940Z",
     "iopub.status.busy": "2024-01-28T13:12:22.090481Z",
     "iopub.status.idle": "2024-01-28T13:12:29.866613Z",
     "shell.execute_reply": "2024-01-28T13:12:29.865441Z"
    },
    "papermill": {
     "duration": 7.784284,
     "end_time": "2024-01-28T13:12:29.868997",
     "exception": false,
     "start_time": "2024-01-28T13:12:22.084713",
     "status": "completed"
    },
    "tags": []
   },
   "outputs": [],
   "source": [
    "# delete all the files and directories recursively in the current working directory ...\n",
    "\n",
    "!rm -rf *\n",
    "\n",
    "# make directory ...\n",
    "\n",
    "!mkdir /kaggle/working/datasets\n",
    "!mkdir /kaggle/working/datasets/badodd\n",
    "!mkdir /kaggle/working/datasets/badodd/labels\n",
    "!mkdir /kaggle/working/datasets/badodd/labels/train\n",
    "!mkdir /kaggle/working/datasets/badodd/images\n",
    "!mkdir /kaggle/working/datasets/badodd/images/train\n",
    "!mkdir /kaggle/working/datasets/badodd/images/test"
   ]
  },
  {
   "cell_type": "code",
   "execution_count": 5,
   "id": "1497b6ad",
   "metadata": {
    "execution": {
     "iopub.execute_input": "2024-01-28T13:12:29.881316Z",
     "iopub.status.busy": "2024-01-28T13:12:29.880970Z",
     "iopub.status.idle": "2024-01-28T13:12:29.886674Z",
     "shell.execute_reply": "2024-01-28T13:12:29.885856Z"
    },
    "papermill": {
     "duration": 0.013999,
     "end_time": "2024-01-28T13:12:29.888658",
     "exception": false,
     "start_time": "2024-01-28T13:12:29.874659",
     "status": "completed"
    },
    "tags": []
   },
   "outputs": [],
   "source": [
    "#  reference original files without duplicating their content ...\n",
    "\n",
    "def all_files_in_folder_symlink(source_dir, target_dir):\n",
    "    files = os.listdir(source_dir)\n",
    "    \n",
    "    for file in tqdm(files):\n",
    "        source_file = os.path.join(source_dir, file)\n",
    "        target_file = os.path.join(target_dir, file)\n",
    "        os.symlink(source_file, target_file)"
   ]
  },
  {
   "cell_type": "code",
   "execution_count": 6,
   "id": "777c345f",
   "metadata": {
    "execution": {
     "iopub.execute_input": "2024-01-28T13:12:29.899311Z",
     "iopub.status.busy": "2024-01-28T13:12:29.899052Z",
     "iopub.status.idle": "2024-01-28T13:12:30.777132Z",
     "shell.execute_reply": "2024-01-28T13:12:30.776053Z"
    },
    "papermill": {
     "duration": 0.885814,
     "end_time": "2024-01-28T13:12:30.779210",
     "exception": false,
     "start_time": "2024-01-28T13:12:29.893396",
     "status": "completed"
    },
    "tags": []
   },
   "outputs": [
    {
     "name": "stderr",
     "output_type": "stream",
     "text": [
      "100%|██████████| 5896/5896 [00:00<00:00, 27209.04it/s]\n",
      "100%|██████████| 5896/5896 [00:00<00:00, 25973.95it/s]\n",
      "100%|██████████| 1964/1964 [00:00<00:00, 28056.12it/s]\n"
     ]
    }
   ],
   "source": [
    "# symbolic link function as above ...\n",
    "\n",
    "all_files_in_folder_symlink(\"/kaggle/input/dl-enigma-10-sust-cse-carnival-2024/dlenigma1/BadODD/labels/train\",\"/kaggle/working/datasets/badodd/labels/train\")\n",
    "all_files_in_folder_symlink(\"/kaggle/input/dl-enigma-10-sust-cse-carnival-2024/dlenigma1/BadODD/images/train\",\"/kaggle/working/datasets/badodd/images/train\")\n",
    "all_files_in_folder_symlink(\"/kaggle/input/dl-enigma-10-sust-cse-carnival-2024/dlenigma1/BadODD/images/test\",\"/kaggle/working/datasets/badodd/images/test\")"
   ]
  },
  {
   "cell_type": "code",
   "execution_count": 7,
   "id": "ed55e59d",
   "metadata": {
    "execution": {
     "iopub.execute_input": "2024-01-28T13:12:30.792045Z",
     "iopub.status.busy": "2024-01-28T13:12:30.791734Z",
     "iopub.status.idle": "2024-01-28T13:12:49.795753Z",
     "shell.execute_reply": "2024-01-28T13:12:49.794463Z"
    },
    "papermill": {
     "duration": 19.013017,
     "end_time": "2024-01-28T13:12:49.797892",
     "exception": false,
     "start_time": "2024-01-28T13:12:30.784875",
     "status": "completed"
    },
    "tags": []
   },
   "outputs": [
    {
     "name": "stdout",
     "output_type": "stream",
     "text": [
      "\u001b[01;34m.\u001b[0m\r\n",
      "`-- \u001b[01;34mdatasets\u001b[0m\r\n",
      "    `-- \u001b[01;34mbadodd\u001b[0m\r\n",
      "        |-- \u001b[01;34mimages\u001b[0m\r\n",
      "        |   |-- \u001b[01;34mtest\u001b[0m\r\n",
      "        |   `-- \u001b[01;34mtrain\u001b[0m\r\n",
      "        `-- \u001b[01;34mlabels\u001b[0m\r\n",
      "            `-- \u001b[01;34mtrain\u001b[0m\r\n",
      "\r\n",
      "7 directories\r\n"
     ]
    }
   ],
   "source": [
    "# working directory structure ...\n",
    "\n",
    "!tree -d"
   ]
  },
  {
   "cell_type": "code",
   "execution_count": 8,
   "id": "503fa90d",
   "metadata": {
    "execution": {
     "iopub.execute_input": "2024-01-28T13:12:49.811632Z",
     "iopub.status.busy": "2024-01-28T13:12:49.811224Z",
     "iopub.status.idle": "2024-01-28T13:12:49.817902Z",
     "shell.execute_reply": "2024-01-28T13:12:49.816999Z"
    },
    "papermill": {
     "duration": 0.015792,
     "end_time": "2024-01-28T13:12:49.819844",
     "exception": false,
     "start_time": "2024-01-28T13:12:49.804052",
     "status": "completed"
    },
    "tags": []
   },
   "outputs": [],
   "source": [
    "# configuration file that tells YOLO where to find the dataset and what objects to detect ...\n",
    "\n",
    "file_content = \"\"\"\n",
    "path: /kaggle/working/datasets/badodd  # dataset root dir\n",
    "train: images/train  # train images (relative to 'path')\n",
    "val: images/train  # val images (relative to 'path')\n",
    "test:  images/test\n",
    "\n",
    "# Classes\n",
    "names:\n",
    "    0: auto_rickshaw\n",
    "    1: bicycle\n",
    "    2: bus\n",
    "    3: car\n",
    "    4: cart_vehicle\n",
    "    5: construction_vehicle\n",
    "    6: motorbike\n",
    "    7: person\n",
    "    8: priority_vehicle\n",
    "    9: three_wheeler\n",
    "    10: train\n",
    "    11: truck\n",
    "    12: wheelchair\n",
    "\"\"\"\n",
    "\n",
    "with open(\"/kaggle/working/yolov8.yaml\", mode=\"w\") as f:\n",
    "    f.write(file_content)"
   ]
  },
  {
   "cell_type": "code",
   "execution_count": 9,
   "id": "b575e47f",
   "metadata": {
    "execution": {
     "iopub.execute_input": "2024-01-28T13:12:49.833361Z",
     "iopub.status.busy": "2024-01-28T13:12:49.832699Z",
     "iopub.status.idle": "2024-01-28T13:14:23.267691Z",
     "shell.execute_reply": "2024-01-28T13:14:23.266513Z"
    },
    "papermill": {
     "duration": 93.444209,
     "end_time": "2024-01-28T13:14:23.270123",
     "exception": false,
     "start_time": "2024-01-28T13:12:49.825914",
     "status": "completed"
    },
    "tags": []
   },
   "outputs": [
    {
     "name": "stdout",
     "output_type": "stream",
     "text": [
      "Collecting super_gradients\r\n",
      "  Obtaining dependency information for super_gradients from https://files.pythonhosted.org/packages/4b/07/ab831d8e0763c17a869b875aadbe411a67fb469db26f0f689aeac4e3e6ee/super_gradients-3.6.0-py3-none-any.whl.metadata\r\n",
      "  Downloading super_gradients-3.6.0-py3-none-any.whl.metadata (40 kB)\r\n",
      "\u001b[2K     \u001b[90m━━━━━━━━━━━━━━━━━━━━━━━━━━━━━━━━━━━━━━━\u001b[0m \u001b[32m40.1/40.1 kB\u001b[0m \u001b[31m680.2 kB/s\u001b[0m eta \u001b[36m0:00:00\u001b[0m\r\n",
      "\u001b[?25hRequirement already satisfied: torch>=1.9.0 in /opt/conda/lib/python3.10/site-packages (from super_gradients) (2.0.0)\r\n",
      "Requirement already satisfied: tqdm>=4.57.0 in /opt/conda/lib/python3.10/site-packages (from super_gradients) (4.66.1)\r\n",
      "Requirement already satisfied: boto3>=1.17.15 in /opt/conda/lib/python3.10/site-packages (from super_gradients) (1.26.100)\r\n",
      "Requirement already satisfied: jsonschema>=3.2.0 in /opt/conda/lib/python3.10/site-packages (from super_gradients) (4.19.0)\r\n",
      "Requirement already satisfied: Deprecated>=1.2.11 in /opt/conda/lib/python3.10/site-packages (from super_gradients) (1.2.14)\r\n",
      "Requirement already satisfied: scipy>=1.6.1 in /opt/conda/lib/python3.10/site-packages (from super_gradients) (1.11.4)\r\n",
      "Requirement already satisfied: matplotlib>=3.3.4 in /opt/conda/lib/python3.10/site-packages (from super_gradients) (3.7.4)\r\n",
      "Requirement already satisfied: psutil>=5.8.0 in /opt/conda/lib/python3.10/site-packages (from super_gradients) (5.9.3)\r\n",
      "Requirement already satisfied: tensorboard>=2.4.1 in /opt/conda/lib/python3.10/site-packages (from super_gradients) (2.13.0)\r\n",
      "Requirement already satisfied: setuptools>=21.0.0 in /opt/conda/lib/python3.10/site-packages (from super_gradients) (68.1.2)\r\n",
      "Collecting coverage~=5.3.1 (from super_gradients)\r\n",
      "  Downloading coverage-5.3.1.tar.gz (684 kB)\r\n",
      "\u001b[2K     \u001b[90m━━━━━━━━━━━━━━━━━━━━━━━━━━━━━━━━━━━━━━━\u001b[0m \u001b[32m684.5/684.5 kB\u001b[0m \u001b[31m5.0 MB/s\u001b[0m eta \u001b[36m0:00:00\u001b[0m\r\n",
      "\u001b[?25h  Preparing metadata (setup.py) ... \u001b[?25l-\b \b\\\b \bdone\r\n",
      "\u001b[?25hRequirement already satisfied: torchvision>=0.10.0 in /opt/conda/lib/python3.10/site-packages (from super_gradients) (0.15.1)\r\n",
      "Collecting sphinx~=4.0.2 (from super_gradients)\r\n",
      "  Downloading Sphinx-4.0.3-py3-none-any.whl (2.9 MB)\r\n",
      "\u001b[2K     \u001b[90m━━━━━━━━━━━━━━━━━━━━━━━━━━━━━━━━━━━━━━━━\u001b[0m \u001b[32m2.9/2.9 MB\u001b[0m \u001b[31m28.8 MB/s\u001b[0m eta \u001b[36m0:00:00\u001b[0m\r\n",
      "\u001b[?25hRequirement already satisfied: sphinx-rtd-theme in /opt/conda/lib/python3.10/site-packages (from super_gradients) (0.2.4)\r\n",
      "Collecting torchmetrics==0.8 (from super_gradients)\r\n",
      "  Downloading torchmetrics-0.8.0-py3-none-any.whl (408 kB)\r\n",
      "\u001b[2K     \u001b[90m━━━━━━━━━━━━━━━━━━━━━━━━━━━━━━━━━━━━━━━\u001b[0m \u001b[32m408.6/408.6 kB\u001b[0m \u001b[31m9.4 MB/s\u001b[0m eta \u001b[36m0:00:00\u001b[0m\r\n",
      "\u001b[?25hCollecting hydra-core>=1.2.0 (from super_gradients)\r\n",
      "  Downloading hydra_core-1.3.2-py3-none-any.whl (154 kB)\r\n",
      "\u001b[2K     \u001b[90m━━━━━━━━━━━━━━━━━━━━━━━━━━━━━━━━━━━━━━\u001b[0m \u001b[32m154.5/154.5 kB\u001b[0m \u001b[31m15.0 MB/s\u001b[0m eta \u001b[36m0:00:00\u001b[0m\r\n",
      "\u001b[?25hCollecting omegaconf (from super_gradients)\r\n",
      "  Downloading omegaconf-2.3.0-py3-none-any.whl (79 kB)\r\n",
      "\u001b[2K     \u001b[90m━━━━━━━━━━━━━━━━━━━━━━━━━━━━━━━━━━━━━━━━\u001b[0m \u001b[32m79.5/79.5 kB\u001b[0m \u001b[31m8.1 MB/s\u001b[0m eta \u001b[36m0:00:00\u001b[0m\r\n",
      "\u001b[?25hCollecting onnxruntime==1.13.1 (from super_gradients)\r\n",
      "  Downloading onnxruntime-1.13.1-cp310-cp310-manylinux_2_27_x86_64.whl (4.5 MB)\r\n",
      "\u001b[2K     \u001b[90m━━━━━━━━━━━━━━━━━━━━━━━━━━━━━━━━━━━━━━━━\u001b[0m \u001b[32m4.5/4.5 MB\u001b[0m \u001b[31m66.6 MB/s\u001b[0m eta \u001b[36m0:00:00\u001b[0m\r\n",
      "\u001b[?25hCollecting onnx==1.13.0 (from super_gradients)\r\n",
      "  Downloading onnx-1.13.0-cp310-cp310-manylinux_2_17_x86_64.manylinux2014_x86_64.whl (13.5 MB)\r\n",
      "\u001b[2K     \u001b[90m━━━━━━━━━━━━━━━━━━━━━━━━━━━━━━━━━━━━━━━━\u001b[0m \u001b[32m13.5/13.5 MB\u001b[0m \u001b[31m53.4 MB/s\u001b[0m eta \u001b[36m0:00:00\u001b[0m\r\n",
      "\u001b[?25hRequirement already satisfied: pillow!=8.3,>=5.3.0 in /opt/conda/lib/python3.10/site-packages (from super_gradients) (9.5.0)\r\n",
      "Collecting pip-tools>=6.12.1 (from super_gradients)\r\n",
      "  Obtaining dependency information for pip-tools>=6.12.1 from https://files.pythonhosted.org/packages/e8/df/47e6267c6b5cdae867adbdd84b437393e6202ce4322de0a5e0b92960e1d6/pip_tools-7.3.0-py3-none-any.whl.metadata\r\n",
      "  Downloading pip_tools-7.3.0-py3-none-any.whl.metadata (23 kB)\r\n",
      "Collecting pyparsing==2.4.5 (from super_gradients)\r\n",
      "  Downloading pyparsing-2.4.5-py2.py3-none-any.whl (67 kB)\r\n",
      "\u001b[2K     \u001b[90m━━━━━━━━━━━━━━━━━━━━━━━━━━━━━━━━━━━━━━━━\u001b[0m \u001b[32m68.0/68.0 kB\u001b[0m \u001b[31m7.0 MB/s\u001b[0m eta \u001b[36m0:00:00\u001b[0m\r\n",
      "\u001b[?25hCollecting einops==0.3.2 (from super_gradients)\r\n",
      "  Downloading einops-0.3.2-py3-none-any.whl (25 kB)\r\n",
      "Collecting pycocotools==2.0.6 (from super_gradients)\r\n",
      "  Downloading pycocotools-2.0.6.tar.gz (24 kB)\r\n",
      "  Installing build dependencies ... \u001b[?25l-\b \b\\\b \b|\b \b/\b \b-\b \b\\\b \b|\b \b/\b \b-\b \b\\\b \b|\b \b/\b \bdone\r\n",
      "\u001b[?25h  Getting requirements to build wheel ... \u001b[?25l-\b \bdone\r\n",
      "\u001b[?25h  Preparing metadata (pyproject.toml) ... \u001b[?25l-\b \bdone\r\n",
      "\u001b[?25hRequirement already satisfied: protobuf==3.20.3 in /opt/conda/lib/python3.10/site-packages (from super_gradients) (3.20.3)\r\n",
      "Collecting treelib==1.6.1 (from super_gradients)\r\n",
      "  Downloading treelib-1.6.1.tar.gz (24 kB)\r\n",
      "  Preparing metadata (setup.py) ... \u001b[?25l-\b \b\\\b \bdone\r\n",
      "\u001b[?25hCollecting termcolor==1.1.0 (from super_gradients)\r\n",
      "  Downloading termcolor-1.1.0.tar.gz (3.9 kB)\r\n",
      "  Preparing metadata (setup.py) ... \u001b[?25l-\b \bdone\r\n",
      "\u001b[?25hRequirement already satisfied: packaging>=20.4 in /opt/conda/lib/python3.10/site-packages (from super_gradients) (21.3)\r\n",
      "Requirement already satisfied: wheel>=0.38.0 in /opt/conda/lib/python3.10/site-packages (from super_gradients) (0.41.2)\r\n",
      "Requirement already satisfied: pygments>=2.7.4 in /opt/conda/lib/python3.10/site-packages (from super_gradients) (2.16.1)\r\n",
      "Collecting stringcase>=1.2.0 (from super_gradients)\r\n",
      "  Downloading stringcase-1.2.0.tar.gz (3.0 kB)\r\n",
      "  Preparing metadata (setup.py) ... \u001b[?25l-\b \b\\\b \bdone\r\n",
      "\u001b[?25hCollecting numpy<=1.23 (from super_gradients)\r\n",
      "  Downloading numpy-1.23.0-cp310-cp310-manylinux_2_17_x86_64.manylinux2014_x86_64.whl (17.0 MB)\r\n",
      "\u001b[2K     \u001b[90m━━━━━━━━━━━━━━━━━━━━━━━━━━━━━━━━━━━━━━━━\u001b[0m \u001b[32m17.0/17.0 MB\u001b[0m \u001b[31m49.7 MB/s\u001b[0m eta \u001b[36m0:00:00\u001b[0m\r\n",
      "\u001b[?25hRequirement already satisfied: rapidfuzz in /opt/conda/lib/python3.10/site-packages (from super_gradients) (3.6.1)\r\n",
      "Collecting json-tricks==3.16.1 (from super_gradients)\r\n",
      "  Downloading json_tricks-3.16.1-py2.py3-none-any.whl (27 kB)\r\n",
      "Collecting onnxsim<1.0,>=0.4.3 (from super_gradients)\r\n",
      "  Obtaining dependency information for onnxsim<1.0,>=0.4.3 from https://files.pythonhosted.org/packages/da/0b/ba622076ab256e97e3da0febea33df8c90ee6e4c42f34c0213fbcdf74ccd/onnxsim-0.4.35-cp310-cp310-manylinux_2_17_x86_64.manylinux2014_x86_64.whl.metadata\r\n",
      "  Downloading onnxsim-0.4.35-cp310-cp310-manylinux_2_17_x86_64.manylinux2014_x86_64.whl.metadata (4.3 kB)\r\n",
      "Collecting data-gradients~=0.3.1 (from super_gradients)\r\n",
      "  Obtaining dependency information for data-gradients~=0.3.1 from https://files.pythonhosted.org/packages/95/21/d037976311f94c981abcadcfcbbc583546ab1e8346e5e3b7d24eaf4913ff/data_gradients-0.3.2-py3-none-any.whl.metadata\r\n",
      "  Downloading data_gradients-0.3.2-py3-none-any.whl.metadata (21 kB)\r\n",
      "Requirement already satisfied: albumentations~=1.3 in /opt/conda/lib/python3.10/site-packages (from super_gradients) (1.3.1)\r\n",
      "Requirement already satisfied: typing-extensions>=3.6.2.1 in /opt/conda/lib/python3.10/site-packages (from onnx==1.13.0->super_gradients) (4.5.0)\r\n",
      "Collecting coloredlogs (from onnxruntime==1.13.1->super_gradients)\r\n",
      "  Downloading coloredlogs-15.0.1-py2.py3-none-any.whl (46 kB)\r\n",
      "\u001b[2K     \u001b[90m━━━━━━━━━━━━━━━━━━━━━━━━━━━━━━━━━━━━━━━━\u001b[0m \u001b[32m46.0/46.0 kB\u001b[0m \u001b[31m4.8 MB/s\u001b[0m eta \u001b[36m0:00:00\u001b[0m\r\n",
      "\u001b[?25hRequirement already satisfied: flatbuffers in /opt/conda/lib/python3.10/site-packages (from onnxruntime==1.13.1->super_gradients) (23.5.26)\r\n",
      "Requirement already satisfied: sympy in /opt/conda/lib/python3.10/site-packages (from onnxruntime==1.13.1->super_gradients) (1.12)\r\n",
      "Collecting pyDeprecate==0.3.* (from torchmetrics==0.8->super_gradients)\r\n",
      "  Downloading pyDeprecate-0.3.2-py3-none-any.whl (10 kB)\r\n",
      "Requirement already satisfied: future in /opt/conda/lib/python3.10/site-packages (from treelib==1.6.1->super_gradients) (0.18.3)\r\n",
      "Requirement already satisfied: scikit-image>=0.16.1 in /opt/conda/lib/python3.10/site-packages (from albumentations~=1.3->super_gradients) (0.21.0)\r\n",
      "Requirement already satisfied: PyYAML in /opt/conda/lib/python3.10/site-packages (from albumentations~=1.3->super_gradients) (6.0.1)\r\n",
      "Requirement already satisfied: qudida>=0.0.4 in /opt/conda/lib/python3.10/site-packages (from albumentations~=1.3->super_gradients) (0.0.4)\r\n",
      "Requirement already satisfied: opencv-python-headless>=4.1.1 in /opt/conda/lib/python3.10/site-packages (from albumentations~=1.3->super_gradients) (4.9.0.80)\r\n",
      "Collecting botocore<1.30.0,>=1.29.100 (from boto3>=1.17.15->super_gradients)\r\n",
      "  Obtaining dependency information for botocore<1.30.0,>=1.29.100 from https://files.pythonhosted.org/packages/46/20/e7a9a8e6746872afcc4e3ad5ab503702c38813b3a532df27cce95c98b8cb/botocore-1.29.165-py3-none-any.whl.metadata\r\n",
      "  Downloading botocore-1.29.165-py3-none-any.whl.metadata (5.9 kB)\r\n",
      "Requirement already satisfied: jmespath<2.0.0,>=0.7.1 in /opt/conda/lib/python3.10/site-packages (from boto3>=1.17.15->super_gradients) (1.0.1)\r\n",
      "Requirement already satisfied: s3transfer<0.7.0,>=0.6.0 in /opt/conda/lib/python3.10/site-packages (from boto3>=1.17.15->super_gradients) (0.6.2)\r\n",
      "Requirement already satisfied: platformdirs>=2.5.2 in /opt/conda/lib/python3.10/site-packages (from data-gradients~=0.3.1->super_gradients) (4.1.0)\r\n",
      "Requirement already satisfied: opencv-python in /opt/conda/lib/python3.10/site-packages (from data-gradients~=0.3.1->super_gradients) (4.9.0.80)\r\n",
      "Requirement already satisfied: seaborn in /opt/conda/lib/python3.10/site-packages (from data-gradients~=0.3.1->super_gradients) (0.12.2)\r\n",
      "Collecting xhtml2pdf==0.2.11 (from data-gradients~=0.3.1->super_gradients)\r\n",
      "  Downloading xhtml2pdf-0.2.11.tar.gz (108 kB)\r\n",
      "\u001b[2K     \u001b[90m━━━━━━━━━━━━━━━━━━━━━━━━━━━━━━━━━━━━━━\u001b[0m \u001b[32m108.3/108.3 kB\u001b[0m \u001b[31m10.1 MB/s\u001b[0m eta \u001b[36m0:00:00\u001b[0m\r\n",
      "\u001b[?25h  Preparing metadata (setup.py) ... \u001b[?25l-\b \bdone\r\n",
      "\u001b[?25hRequirement already satisfied: jinja2 in /opt/conda/lib/python3.10/site-packages (from data-gradients~=0.3.1->super_gradients) (3.1.2)\r\n",
      "Collecting imagededup (from data-gradients~=0.3.1->super_gradients)\r\n",
      "  Downloading imagededup-0.3.2-cp310-cp310-manylinux_2_17_x86_64.manylinux2014_x86_64.whl (176 kB)\r\n",
      "\u001b[2K     \u001b[90m━━━━━━━━━━━━━━━━━━━━━━━━━━━━━━━━━━━━━━\u001b[0m \u001b[32m176.0/176.0 kB\u001b[0m \u001b[31m18.5 MB/s\u001b[0m eta \u001b[36m0:00:00\u001b[0m\r\n",
      "\u001b[?25hCollecting arabic-reshaper>=3.0.0 (from xhtml2pdf==0.2.11->data-gradients~=0.3.1->super_gradients)\r\n",
      "  Downloading arabic_reshaper-3.0.0-py3-none-any.whl (20 kB)\r\n",
      "Requirement already satisfied: html5lib>=1.0.1 in /opt/conda/lib/python3.10/site-packages (from xhtml2pdf==0.2.11->data-gradients~=0.3.1->super_gradients) (1.1)\r\n",
      "Collecting pyHanko>=0.12.1 (from xhtml2pdf==0.2.11->data-gradients~=0.3.1->super_gradients)\r\n",
      "  Obtaining dependency information for pyHanko>=0.12.1 from https://files.pythonhosted.org/packages/68/fc/d3d6dbb6ca6a9c755df5b6a1f2897e7560ef4c1384d8c89d182424f1582e/pyHanko-0.21.0-py3-none-any.whl.metadata\r\n",
      "  Downloading pyHanko-0.21.0-py3-none-any.whl.metadata (9.4 kB)\r\n",
      "Collecting pyhanko-certvalidator>=0.19.5 (from xhtml2pdf==0.2.11->data-gradients~=0.3.1->super_gradients)\r\n",
      "  Obtaining dependency information for pyhanko-certvalidator>=0.19.5 from https://files.pythonhosted.org/packages/51/9c/8332e1a42c8476aa48b0ca10dee9d5513e6398f296b90194c8e8ba444690/pyhanko_certvalidator-0.26.3-py3-none-any.whl.metadata\r\n",
      "  Downloading pyhanko_certvalidator-0.26.3-py3-none-any.whl.metadata (5.3 kB)\r\n",
      "Requirement already satisfied: pypdf>=3.1.0 in /opt/conda/lib/python3.10/site-packages (from xhtml2pdf==0.2.11->data-gradients~=0.3.1->super_gradients) (3.17.4)\r\n",
      "Requirement already satisfied: python-bidi>=0.4.2 in /opt/conda/lib/python3.10/site-packages (from xhtml2pdf==0.2.11->data-gradients~=0.3.1->super_gradients) (0.4.2)\r\n",
      "Collecting reportlab<4,>=3.5.53 (from xhtml2pdf==0.2.11->data-gradients~=0.3.1->super_gradients)\r\n",
      "  Downloading reportlab-3.6.13-cp310-cp310-manylinux_2_17_x86_64.manylinux2014_x86_64.whl (2.8 MB)\r\n",
      "\u001b[2K     \u001b[90m━━━━━━━━━━━━━━━━━━━━━━━━━━━━━━━━━━━━━━━━\u001b[0m \u001b[32m2.8/2.8 MB\u001b[0m \u001b[31m83.8 MB/s\u001b[0m eta \u001b[36m0:00:00\u001b[0m\r\n",
      "\u001b[?25hCollecting svglib>=1.2.1 (from xhtml2pdf==0.2.11->data-gradients~=0.3.1->super_gradients)\r\n",
      "  Downloading svglib-1.5.1.tar.gz (913 kB)\r\n",
      "\u001b[2K     \u001b[90m━━━━━━━━━━━━━━━━━━━━━━━━━━━━━━━━━━━━━━\u001b[0m \u001b[32m913.9/913.9 kB\u001b[0m \u001b[31m55.9 MB/s\u001b[0m eta \u001b[36m0:00:00\u001b[0m\r\n",
      "\u001b[?25h  Preparing metadata (setup.py) ... \u001b[?25l-\b \b\\\b \bdone\r\n",
      "\u001b[?25hRequirement already satisfied: wrapt<2,>=1.10 in /opt/conda/lib/python3.10/site-packages (from Deprecated>=1.2.11->super_gradients) (1.15.0)\r\n",
      "Collecting antlr4-python3-runtime==4.9.* (from hydra-core>=1.2.0->super_gradients)\r\n",
      "  Downloading antlr4-python3-runtime-4.9.3.tar.gz (117 kB)\r\n",
      "\u001b[2K     \u001b[90m━━━━━━━━━━━━━━━━━━━━━━━━━━━━━━━━━━━━━━\u001b[0m \u001b[32m117.0/117.0 kB\u001b[0m \u001b[31m11.8 MB/s\u001b[0m eta \u001b[36m0:00:00\u001b[0m\r\n",
      "\u001b[?25h  Preparing metadata (setup.py) ... \u001b[?25l-\b \bdone\r\n",
      "\u001b[?25hRequirement already satisfied: attrs>=22.2.0 in /opt/conda/lib/python3.10/site-packages (from jsonschema>=3.2.0->super_gradients) (23.1.0)\r\n",
      "Requirement already satisfied: jsonschema-specifications>=2023.03.6 in /opt/conda/lib/python3.10/site-packages (from jsonschema>=3.2.0->super_gradients) (2023.7.1)\r\n",
      "Requirement already satisfied: referencing>=0.28.4 in /opt/conda/lib/python3.10/site-packages (from jsonschema>=3.2.0->super_gradients) (0.30.2)\r\n",
      "Requirement already satisfied: rpds-py>=0.7.1 in /opt/conda/lib/python3.10/site-packages (from jsonschema>=3.2.0->super_gradients) (0.9.2)\r\n",
      "Requirement already satisfied: contourpy>=1.0.1 in /opt/conda/lib/python3.10/site-packages (from matplotlib>=3.3.4->super_gradients) (1.1.0)\r\n",
      "Requirement already satisfied: cycler>=0.10 in /opt/conda/lib/python3.10/site-packages (from matplotlib>=3.3.4->super_gradients) (0.11.0)\r\n",
      "Requirement already satisfied: fonttools>=4.22.0 in /opt/conda/lib/python3.10/site-packages (from matplotlib>=3.3.4->super_gradients) (4.42.1)\r\n",
      "Requirement already satisfied: kiwisolver>=1.0.1 in /opt/conda/lib/python3.10/site-packages (from matplotlib>=3.3.4->super_gradients) (1.4.4)\r\n",
      "Requirement already satisfied: python-dateutil>=2.7 in /opt/conda/lib/python3.10/site-packages (from matplotlib>=3.3.4->super_gradients) (2.8.2)\r\n",
      "Requirement already satisfied: rich in /opt/conda/lib/python3.10/site-packages (from onnxsim<1.0,>=0.4.3->super_gradients) (13.5.2)\r\n",
      "Collecting build (from pip-tools>=6.12.1->super_gradients)\r\n",
      "  Obtaining dependency information for build from https://files.pythonhosted.org/packages/93/dd/b464b728b866aaa62785a609e0dd8c72201d62c5f7c53e7c20f4dceb085f/build-1.0.3-py3-none-any.whl.metadata\r\n",
      "  Downloading build-1.0.3-py3-none-any.whl.metadata (4.2 kB)\r\n",
      "Requirement already satisfied: click>=8 in /opt/conda/lib/python3.10/site-packages (from pip-tools>=6.12.1->super_gradients) (8.1.7)\r\n",
      "Requirement already satisfied: pip>=22.2 in /opt/conda/lib/python3.10/site-packages (from pip-tools>=6.12.1->super_gradients) (23.2.1)\r\n",
      "Requirement already satisfied: tomli in /opt/conda/lib/python3.10/site-packages (from pip-tools>=6.12.1->super_gradients) (2.0.1)\r\n",
      "Collecting sphinxcontrib-applehelp (from sphinx~=4.0.2->super_gradients)\r\n",
      "  Obtaining dependency information for sphinxcontrib-applehelp from https://files.pythonhosted.org/packages/56/89/fea3fbf6785b388e6cb8a1beaf62f96e80b37311bdeed6e133388a732426/sphinxcontrib_applehelp-1.0.8-py3-none-any.whl.metadata\r\n",
      "  Downloading sphinxcontrib_applehelp-1.0.8-py3-none-any.whl.metadata (2.3 kB)\r\n",
      "Collecting sphinxcontrib-devhelp (from sphinx~=4.0.2->super_gradients)\r\n",
      "  Obtaining dependency information for sphinxcontrib-devhelp from https://files.pythonhosted.org/packages/a0/52/1049d918d1d1c72857d285c3f0c64c1cbe0be394ce1c93a3d2aa4f39fe3b/sphinxcontrib_devhelp-1.0.6-py3-none-any.whl.metadata\r\n",
      "  Downloading sphinxcontrib_devhelp-1.0.6-py3-none-any.whl.metadata (2.3 kB)\r\n",
      "Collecting sphinxcontrib-jsmath (from sphinx~=4.0.2->super_gradients)\r\n",
      "  Downloading sphinxcontrib_jsmath-1.0.1-py2.py3-none-any.whl (5.1 kB)\r\n",
      "Collecting sphinxcontrib-htmlhelp (from sphinx~=4.0.2->super_gradients)\r\n",
      "  Obtaining dependency information for sphinxcontrib-htmlhelp from https://files.pythonhosted.org/packages/c2/e9/74c4cda5b409af3222fda38f0774e616011bc935f639dbc0da5ca2d1be7d/sphinxcontrib_htmlhelp-2.0.5-py3-none-any.whl.metadata\r\n",
      "  Downloading sphinxcontrib_htmlhelp-2.0.5-py3-none-any.whl.metadata (2.3 kB)\r\n",
      "Collecting sphinxcontrib-serializinghtml (from sphinx~=4.0.2->super_gradients)\r\n",
      "  Obtaining dependency information for sphinxcontrib-serializinghtml from https://files.pythonhosted.org/packages/38/24/228bb903ea87b9e08ab33470e6102402a644127108c7117ac9c00d849f82/sphinxcontrib_serializinghtml-1.1.10-py3-none-any.whl.metadata\r\n",
      "  Downloading sphinxcontrib_serializinghtml-1.1.10-py3-none-any.whl.metadata (2.4 kB)\r\n",
      "Collecting sphinxcontrib-qthelp (from sphinx~=4.0.2->super_gradients)\r\n",
      "  Obtaining dependency information for sphinxcontrib-qthelp from https://files.pythonhosted.org/packages/80/b3/1beac14a88654d2e5120d0143b49be5ad450b86eb1963523d8dbdcc51eb2/sphinxcontrib_qthelp-1.0.7-py3-none-any.whl.metadata\r\n",
      "  Downloading sphinxcontrib_qthelp-1.0.7-py3-none-any.whl.metadata (2.2 kB)\r\n",
      "Collecting docutils<0.18,>=0.14 (from sphinx~=4.0.2->super_gradients)\r\n",
      "  Downloading docutils-0.17.1-py2.py3-none-any.whl (575 kB)\r\n",
      "\u001b[2K     \u001b[90m━━━━━━━━━━━━━━━━━━━━━━━━━━━━━━━━━━━━━━\u001b[0m \u001b[32m575.5/575.5 kB\u001b[0m \u001b[31m41.3 MB/s\u001b[0m eta \u001b[36m0:00:00\u001b[0m\r\n",
      "\u001b[?25hRequirement already satisfied: snowballstemmer>=1.1 in /opt/conda/lib/python3.10/site-packages (from sphinx~=4.0.2->super_gradients) (2.2.0)\r\n",
      "Requirement already satisfied: babel>=1.3 in /opt/conda/lib/python3.10/site-packages (from sphinx~=4.0.2->super_gradients) (2.12.1)\r\n",
      "Collecting alabaster<0.8,>=0.7 (from sphinx~=4.0.2->super_gradients)\r\n",
      "  Obtaining dependency information for alabaster<0.8,>=0.7 from https://files.pythonhosted.org/packages/32/34/d4e1c02d3bee589efb5dfa17f88ea08bdb3e3eac12bc475462aec52ed223/alabaster-0.7.16-py3-none-any.whl.metadata\r\n",
      "  Downloading alabaster-0.7.16-py3-none-any.whl.metadata (2.9 kB)\r\n",
      "Collecting imagesize (from sphinx~=4.0.2->super_gradients)\r\n",
      "  Downloading imagesize-1.4.1-py2.py3-none-any.whl (8.8 kB)\r\n",
      "Requirement already satisfied: requests>=2.5.0 in /opt/conda/lib/python3.10/site-packages (from sphinx~=4.0.2->super_gradients) (2.31.0)\r\n",
      "Requirement already satisfied: absl-py>=0.4 in /opt/conda/lib/python3.10/site-packages (from tensorboard>=2.4.1->super_gradients) (1.4.0)\r\n",
      "Requirement already satisfied: grpcio>=1.48.2 in /opt/conda/lib/python3.10/site-packages (from tensorboard>=2.4.1->super_gradients) (1.51.1)\r\n",
      "Requirement already satisfied: google-auth<3,>=1.6.3 in /opt/conda/lib/python3.10/site-packages (from tensorboard>=2.4.1->super_gradients) (2.22.0)\r\n",
      "Requirement already satisfied: google-auth-oauthlib<1.1,>=0.5 in /opt/conda/lib/python3.10/site-packages (from tensorboard>=2.4.1->super_gradients) (1.0.0)\r\n",
      "Requirement already satisfied: markdown>=2.6.8 in /opt/conda/lib/python3.10/site-packages (from tensorboard>=2.4.1->super_gradients) (3.4.4)\r\n",
      "Requirement already satisfied: tensorboard-data-server<0.8.0,>=0.7.0 in /opt/conda/lib/python3.10/site-packages (from tensorboard>=2.4.1->super_gradients) (0.7.1)\r\n",
      "Requirement already satisfied: werkzeug>=1.0.1 in /opt/conda/lib/python3.10/site-packages (from tensorboard>=2.4.1->super_gradients) (3.0.1)\r\n",
      "Requirement already satisfied: filelock in /opt/conda/lib/python3.10/site-packages (from torch>=1.9.0->super_gradients) (3.12.2)\r\n",
      "Requirement already satisfied: networkx in /opt/conda/lib/python3.10/site-packages (from torch>=1.9.0->super_gradients) (3.1)\r\n",
      "Requirement already satisfied: urllib3<1.27,>=1.25.4 in /opt/conda/lib/python3.10/site-packages (from botocore<1.30.0,>=1.29.100->boto3>=1.17.15->super_gradients) (1.26.15)\r\n",
      "Requirement already satisfied: cachetools<6.0,>=2.0.0 in /opt/conda/lib/python3.10/site-packages (from google-auth<3,>=1.6.3->tensorboard>=2.4.1->super_gradients) (4.2.4)\r\n",
      "Requirement already satisfied: pyasn1-modules>=0.2.1 in /opt/conda/lib/python3.10/site-packages (from google-auth<3,>=1.6.3->tensorboard>=2.4.1->super_gradients) (0.2.7)\r\n",
      "Requirement already satisfied: rsa<5,>=3.1.4 in /opt/conda/lib/python3.10/site-packages (from google-auth<3,>=1.6.3->tensorboard>=2.4.1->super_gradients) (4.9)\r\n",
      "Requirement already satisfied: six>=1.9.0 in /opt/conda/lib/python3.10/site-packages (from google-auth<3,>=1.6.3->tensorboard>=2.4.1->super_gradients) (1.16.0)\r\n",
      "Requirement already satisfied: requests-oauthlib>=0.7.0 in /opt/conda/lib/python3.10/site-packages (from google-auth-oauthlib<1.1,>=0.5->tensorboard>=2.4.1->super_gradients) (1.3.1)\r\n",
      "Requirement already satisfied: MarkupSafe>=2.0 in /opt/conda/lib/python3.10/site-packages (from jinja2->data-gradients~=0.3.1->super_gradients) (2.1.3)\r\n",
      "Requirement already satisfied: scikit-learn>=0.19.1 in /opt/conda/lib/python3.10/site-packages (from qudida>=0.0.4->albumentations~=1.3->super_gradients) (1.2.2)\r\n",
      "Requirement already satisfied: charset-normalizer<4,>=2 in /opt/conda/lib/python3.10/site-packages (from requests>=2.5.0->sphinx~=4.0.2->super_gradients) (3.2.0)\r\n",
      "Requirement already satisfied: idna<4,>=2.5 in /opt/conda/lib/python3.10/site-packages (from requests>=2.5.0->sphinx~=4.0.2->super_gradients) (3.4)\r\n",
      "Requirement already satisfied: certifi>=2017.4.17 in /opt/conda/lib/python3.10/site-packages (from requests>=2.5.0->sphinx~=4.0.2->super_gradients) (2023.11.17)\r\n",
      "Requirement already satisfied: imageio>=2.27 in /opt/conda/lib/python3.10/site-packages (from scikit-image>=0.16.1->albumentations~=1.3->super_gradients) (2.31.1)\r\n",
      "Requirement already satisfied: tifffile>=2022.8.12 in /opt/conda/lib/python3.10/site-packages (from scikit-image>=0.16.1->albumentations~=1.3->super_gradients) (2023.8.12)\r\n",
      "Requirement already satisfied: PyWavelets>=1.1.1 in /opt/conda/lib/python3.10/site-packages (from scikit-image>=0.16.1->albumentations~=1.3->super_gradients) (1.4.1)\r\n",
      "Requirement already satisfied: lazy_loader>=0.2 in /opt/conda/lib/python3.10/site-packages (from scikit-image>=0.16.1->albumentations~=1.3->super_gradients) (0.3)\r\n",
      "Collecting pyproject_hooks (from build->pip-tools>=6.12.1->super_gradients)\r\n",
      "  Downloading pyproject_hooks-1.0.0-py3-none-any.whl (9.3 kB)\r\n",
      "Collecting humanfriendly>=9.1 (from coloredlogs->onnxruntime==1.13.1->super_gradients)\r\n",
      "  Downloading humanfriendly-10.0-py2.py3-none-any.whl (86 kB)\r\n",
      "\u001b[2K     \u001b[90m━━━━━━━━━━━━━━━━━━━━━━━━━━━━━━━━━━━━━━━━\u001b[0m \u001b[32m86.8/86.8 kB\u001b[0m \u001b[31m1.5 MB/s\u001b[0m eta \u001b[36m0:00:00\u001b[0m\r\n",
      "\u001b[?25hRequirement already satisfied: markdown-it-py>=2.2.0 in /opt/conda/lib/python3.10/site-packages (from rich->onnxsim<1.0,>=0.4.3->super_gradients) (3.0.0)\r\n",
      "Requirement already satisfied: pandas>=0.25 in /opt/conda/lib/python3.10/site-packages (from seaborn->data-gradients~=0.3.1->super_gradients) (2.0.3)\r\n",
      "Requirement already satisfied: mpmath>=0.19 in /opt/conda/lib/python3.10/site-packages (from sympy->onnxruntime==1.13.1->super_gradients) (1.3.0)\r\n",
      "Requirement already satisfied: webencodings in /opt/conda/lib/python3.10/site-packages (from html5lib>=1.0.1->xhtml2pdf==0.2.11->data-gradients~=0.3.1->super_gradients) (0.5.1)\r\n",
      "Requirement already satisfied: mdurl~=0.1 in /opt/conda/lib/python3.10/site-packages (from markdown-it-py>=2.2.0->rich->onnxsim<1.0,>=0.4.3->super_gradients) (0.1.2)\r\n",
      "Requirement already satisfied: pytz>=2020.1 in /opt/conda/lib/python3.10/site-packages (from pandas>=0.25->seaborn->data-gradients~=0.3.1->super_gradients) (2023.3)\r\n",
      "Requirement already satisfied: tzdata>=2022.1 in /opt/conda/lib/python3.10/site-packages (from pandas>=0.25->seaborn->data-gradients~=0.3.1->super_gradients) (2023.3)\r\n",
      "Requirement already satisfied: pyasn1<0.5.0,>=0.4.6 in /opt/conda/lib/python3.10/site-packages (from pyasn1-modules>=0.2.1->google-auth<3,>=1.6.3->tensorboard>=2.4.1->super_gradients) (0.4.8)\r\n",
      "Collecting asn1crypto>=1.5.1 (from pyHanko>=0.12.1->xhtml2pdf==0.2.11->data-gradients~=0.3.1->super_gradients)\r\n",
      "  Downloading asn1crypto-1.5.1-py2.py3-none-any.whl (105 kB)\r\n",
      "\u001b[2K     \u001b[90m━━━━━━━━━━━━━━━━━━━━━━━━━━━━━━━━━━━━━━\u001b[0m \u001b[32m105.0/105.0 kB\u001b[0m \u001b[31m10.1 MB/s\u001b[0m eta \u001b[36m0:00:00\u001b[0m\r\n",
      "\u001b[?25hCollecting qrcode>=7.3.1 (from pyHanko>=0.12.1->xhtml2pdf==0.2.11->data-gradients~=0.3.1->super_gradients)\r\n",
      "  Downloading qrcode-7.4.2-py3-none-any.whl (46 kB)\r\n",
      "\u001b[2K     \u001b[90m━━━━━━━━━━━━━━━━━━━━━━━━━━━━━━━━━━━━━━━━\u001b[0m \u001b[32m46.2/46.2 kB\u001b[0m \u001b[31m4.3 MB/s\u001b[0m eta \u001b[36m0:00:00\u001b[0m\r\n",
      "\u001b[?25hRequirement already satisfied: tzlocal>=4.3 in /opt/conda/lib/python3.10/site-packages (from pyHanko>=0.12.1->xhtml2pdf==0.2.11->data-gradients~=0.3.1->super_gradients) (5.2)\r\n",
      "Collecting cryptography>=41.0.5 (from pyHanko>=0.12.1->xhtml2pdf==0.2.11->data-gradients~=0.3.1->super_gradients)\r\n",
      "  Obtaining dependency information for cryptography>=41.0.5 from https://files.pythonhosted.org/packages/f8/46/2776ca9b602f79633fdf69824b5e18c94f2e0c5f09a94fc69e5b0887c14d/cryptography-42.0.1-cp39-abi3-manylinux_2_28_x86_64.whl.metadata\r\n",
      "  Downloading cryptography-42.0.1-cp39-abi3-manylinux_2_28_x86_64.whl.metadata (5.3 kB)\r\n",
      "Collecting oscrypto>=1.1.0 (from pyhanko-certvalidator>=0.19.5->xhtml2pdf==0.2.11->data-gradients~=0.3.1->super_gradients)\r\n",
      "  Downloading oscrypto-1.3.0-py2.py3-none-any.whl (194 kB)\r\n",
      "\u001b[2K     \u001b[90m━━━━━━━━━━━━━━━━━━━━━━━━━━━━━━━━━━━━━━\u001b[0m \u001b[32m194.6/194.6 kB\u001b[0m \u001b[31m20.6 MB/s\u001b[0m eta \u001b[36m0:00:00\u001b[0m\r\n",
      "\u001b[?25hCollecting uritools>=3.0.1 (from pyhanko-certvalidator>=0.19.5->xhtml2pdf==0.2.11->data-gradients~=0.3.1->super_gradients)\r\n",
      "  Obtaining dependency information for uritools>=3.0.1 from https://files.pythonhosted.org/packages/6b/ff/b16f225ceeb47f5d8899371ce446a8d6c1fe509a8882998b869f2a794c25/uritools-4.0.2-py3-none-any.whl.metadata\r\n",
      "  Downloading uritools-4.0.2-py3-none-any.whl.metadata (4.7 kB)\r\n",
      "Requirement already satisfied: oauthlib>=3.0.0 in /opt/conda/lib/python3.10/site-packages (from requests-oauthlib>=0.7.0->google-auth-oauthlib<1.1,>=0.5->tensorboard>=2.4.1->super_gradients) (3.2.2)\r\n",
      "Requirement already satisfied: joblib>=1.1.1 in /opt/conda/lib/python3.10/site-packages (from scikit-learn>=0.19.1->qudida>=0.0.4->albumentations~=1.3->super_gradients) (1.3.2)\r\n",
      "Requirement already satisfied: threadpoolctl>=2.0.0 in /opt/conda/lib/python3.10/site-packages (from scikit-learn>=0.19.1->qudida>=0.0.4->albumentations~=1.3->super_gradients) (3.2.0)\r\n",
      "Requirement already satisfied: lxml in /opt/conda/lib/python3.10/site-packages (from svglib>=1.2.1->xhtml2pdf==0.2.11->data-gradients~=0.3.1->super_gradients) (5.1.0)\r\n",
      "Requirement already satisfied: tinycss2>=0.6.0 in /opt/conda/lib/python3.10/site-packages (from svglib>=1.2.1->xhtml2pdf==0.2.11->data-gradients~=0.3.1->super_gradients) (1.2.1)\r\n",
      "Collecting cssselect2>=0.2.0 (from svglib>=1.2.1->xhtml2pdf==0.2.11->data-gradients~=0.3.1->super_gradients)\r\n",
      "  Downloading cssselect2-0.7.0-py3-none-any.whl (15 kB)\r\n",
      "Requirement already satisfied: cffi>=1.12 in /opt/conda/lib/python3.10/site-packages (from cryptography>=41.0.5->pyHanko>=0.12.1->xhtml2pdf==0.2.11->data-gradients~=0.3.1->super_gradients) (1.15.1)\r\n",
      "Collecting pypng (from qrcode>=7.3.1->pyHanko>=0.12.1->xhtml2pdf==0.2.11->data-gradients~=0.3.1->super_gradients)\r\n",
      "  Downloading pypng-0.20220715.0-py3-none-any.whl (58 kB)\r\n",
      "\u001b[2K     \u001b[90m━━━━━━━━━━━━━━━━━━━━━━━━━━━━━━━━━━━━━━━━\u001b[0m \u001b[32m58.1/58.1 kB\u001b[0m \u001b[31m6.0 MB/s\u001b[0m eta \u001b[36m0:00:00\u001b[0m\r\n",
      "\u001b[?25hRequirement already satisfied: pycparser in /opt/conda/lib/python3.10/site-packages (from cffi>=1.12->cryptography>=41.0.5->pyHanko>=0.12.1->xhtml2pdf==0.2.11->data-gradients~=0.3.1->super_gradients) (2.21)\r\n",
      "Downloading super_gradients-3.6.0-py3-none-any.whl (12.1 MB)\r\n",
      "\u001b[2K   \u001b[90m━━━━━━━━━━━━━━━━━━━━━━━━━━━━━━━━━━━━━━━━\u001b[0m \u001b[32m12.1/12.1 MB\u001b[0m \u001b[31m59.2 MB/s\u001b[0m eta \u001b[36m0:00:00\u001b[0m\r\n",
      "\u001b[?25hDownloading data_gradients-0.3.2-py3-none-any.whl (459 kB)\r\n",
      "\u001b[2K   \u001b[90m━━━━━━━━━━━━━━━━━━━━━━━━━━━━━━━━━━━━━━━━\u001b[0m \u001b[32m459.5/459.5 kB\u001b[0m \u001b[31m37.0 MB/s\u001b[0m eta \u001b[36m0:00:00\u001b[0m\r\n",
      "\u001b[?25hDownloading onnxsim-0.4.35-cp310-cp310-manylinux_2_17_x86_64.manylinux2014_x86_64.whl (2.2 MB)\r\n",
      "\u001b[2K   \u001b[90m━━━━━━━━━━━━━━━━━━━━━━━━━━━━━━━━━━━━━━━━\u001b[0m \u001b[32m2.2/2.2 MB\u001b[0m \u001b[31m77.2 MB/s\u001b[0m eta \u001b[36m0:00:00\u001b[0m\r\n",
      "\u001b[?25hDownloading pip_tools-7.3.0-py3-none-any.whl (57 kB)\r\n",
      "\u001b[2K   \u001b[90m━━━━━━━━━━━━━━━━━━━━━━━━━━━━━━━━━━━━━━━━\u001b[0m \u001b[32m57.4/57.4 kB\u001b[0m \u001b[31m5.2 MB/s\u001b[0m eta \u001b[36m0:00:00\u001b[0m\r\n",
      "\u001b[?25hDownloading alabaster-0.7.16-py3-none-any.whl (13 kB)\r\n",
      "Downloading botocore-1.29.165-py3-none-any.whl (11.0 MB)\r\n",
      "\u001b[2K   \u001b[90m━━━━━━━━━━━━━━━━━━━━━━━━━━━━━━━━━━━━━━━━\u001b[0m \u001b[32m11.0/11.0 MB\u001b[0m \u001b[31m67.8 MB/s\u001b[0m eta \u001b[36m0:00:00\u001b[0m\r\n",
      "\u001b[?25hDownloading build-1.0.3-py3-none-any.whl (18 kB)\r\n",
      "Downloading sphinxcontrib_applehelp-1.0.8-py3-none-any.whl (120 kB)\r\n",
      "\u001b[2K   \u001b[90m━━━━━━━━━━━━━━━━━━━━━━━━━━━━━━━━━━━━━━━━\u001b[0m \u001b[32m120.0/120.0 kB\u001b[0m \u001b[31m11.4 MB/s\u001b[0m eta \u001b[36m0:00:00\u001b[0m\r\n",
      "\u001b[?25hDownloading sphinxcontrib_devhelp-1.0.6-py3-none-any.whl (83 kB)\r\n",
      "\u001b[2K   \u001b[90m━━━━━━━━━━━━━━━━━━━━━━━━━━━━━━━━━━━━━━━━\u001b[0m \u001b[32m83.5/83.5 kB\u001b[0m \u001b[31m7.7 MB/s\u001b[0m eta \u001b[36m0:00:00\u001b[0m\r\n",
      "\u001b[?25hDownloading sphinxcontrib_htmlhelp-2.0.5-py3-none-any.whl (99 kB)\r\n",
      "\u001b[2K   \u001b[90m━━━━━━━━━━━━━━━━━━━━━━━━━━━━━━━━━━━━━━━━\u001b[0m \u001b[32m99.2/99.2 kB\u001b[0m \u001b[31m8.7 MB/s\u001b[0m eta \u001b[36m0:00:00\u001b[0m\r\n",
      "\u001b[?25hDownloading sphinxcontrib_qthelp-1.0.7-py3-none-any.whl (89 kB)\r\n",
      "\u001b[2K   \u001b[90m━━━━━━━━━━━━━━━━━━━━━━━━━━━━━━━━━━━━━━━━\u001b[0m \u001b[32m89.4/89.4 kB\u001b[0m \u001b[31m8.2 MB/s\u001b[0m eta \u001b[36m0:00:00\u001b[0m\r\n",
      "\u001b[?25hDownloading sphinxcontrib_serializinghtml-1.1.10-py3-none-any.whl (92 kB)\r\n",
      "\u001b[2K   \u001b[90m━━━━━━━━━━━━━━━━━━━━━━━━━━━━━━━━━━━━━━━━\u001b[0m \u001b[32m92.7/92.7 kB\u001b[0m \u001b[31m9.1 MB/s\u001b[0m eta \u001b[36m0:00:00\u001b[0m\r\n",
      "\u001b[?25hDownloading pyHanko-0.21.0-py3-none-any.whl (433 kB)\r\n",
      "\u001b[2K   \u001b[90m━━━━━━━━━━━━━━━━━━━━━━━━━━━━━━━━━━━━━━━━\u001b[0m \u001b[32m433.2/433.2 kB\u001b[0m \u001b[31m34.3 MB/s\u001b[0m eta \u001b[36m0:00:00\u001b[0m\r\n",
      "\u001b[?25hDownloading pyhanko_certvalidator-0.26.3-py3-none-any.whl (109 kB)\r\n",
      "\u001b[2K   \u001b[90m━━━━━━━━━━━━━━━━━━━━━━━━━━━━━━━━━━━━━━━━\u001b[0m \u001b[32m109.4/109.4 kB\u001b[0m \u001b[31m9.9 MB/s\u001b[0m eta \u001b[36m0:00:00\u001b[0m\r\n",
      "\u001b[?25hDownloading cryptography-42.0.1-cp39-abi3-manylinux_2_28_x86_64.whl (4.6 MB)\r\n",
      "\u001b[2K   \u001b[90m━━━━━━━━━━━━━━━━━━━━━━━━━━━━━━━━━━━━━━━━\u001b[0m \u001b[32m4.6/4.6 MB\u001b[0m \u001b[31m74.4 MB/s\u001b[0m eta \u001b[36m0:00:00\u001b[0m\r\n",
      "\u001b[?25hDownloading uritools-4.0.2-py3-none-any.whl (10 kB)\r\n",
      "Building wheels for collected packages: pycocotools, termcolor, treelib, coverage, xhtml2pdf, antlr4-python3-runtime, stringcase, svglib\r\n",
      "  Building wheel for pycocotools (pyproject.toml) ... \u001b[?25l-\b \b\\\b \b|\b \b/\b \b-\b \b\\\b \b|\b \b/\b \bdone\r\n",
      "\u001b[?25h  Created wheel for pycocotools: filename=pycocotools-2.0.6-cp310-cp310-linux_x86_64.whl size=101832 sha256=b48257395a172d0a5cc4123cba3900d2b3c58a8c1a7203310b974bf56a4a65c4\r\n",
      "  Stored in directory: /root/.cache/pip/wheels/58/e6/f9/f87c8f8be098b51b616871315318329cae12cdb618f4caac93\r\n",
      "  Building wheel for termcolor (setup.py) ... \u001b[?25l-\b \b\\\b \bdone\r\n",
      "\u001b[?25h  Created wheel for termcolor: filename=termcolor-1.1.0-py3-none-any.whl size=4832 sha256=ee9b81d49708eb4a2effc3b315ca6673de74c542a5de6f610a100edfc770b07f\r\n",
      "  Stored in directory: /root/.cache/pip/wheels/a1/49/46/1b13a65d8da11238af9616b00fdde6d45b0f95d9291bac8452\r\n",
      "  Building wheel for treelib (setup.py) ... \u001b[?25l-\b \b\\\b \b|\b \bdone\r\n",
      "\u001b[?25h  Created wheel for treelib: filename=treelib-1.6.1-py3-none-any.whl size=18368 sha256=c91d0aa02c049dde3682fc9ec96512f50fa5e9e655bb434ec47616d3e6926b64\r\n",
      "  Stored in directory: /root/.cache/pip/wheels/63/72/8b/76569b82bf280a03c4e294c3b29ee2398217186369c427ed4b\r\n",
      "  Building wheel for coverage (setup.py) ... \u001b[?25l-\b \b\\\b \b|\b \bdone\r\n",
      "\u001b[?25h  Created wheel for coverage: filename=coverage-5.3.1-cp310-cp310-linux_x86_64.whl size=210071 sha256=01d98a31156875f44aea2df680cb64d172073bf723219825aa0852064bd64cee\r\n",
      "  Stored in directory: /root/.cache/pip/wheels/e2/70/10/313be697f460d6024cfa94b7f0e22ffc1c53aab718fb4f42af\r\n",
      "  Building wheel for xhtml2pdf (setup.py) ... \u001b[?25l-\b \bdone\r\n",
      "\u001b[?25h  Created wheel for xhtml2pdf: filename=xhtml2pdf-0.2.11-py3-none-any.whl size=262937 sha256=e4e44ba0a83fa57d712d2154e633859ba188a46e1829d901d94baf6d85b9d991\r\n",
      "  Stored in directory: /root/.cache/pip/wheels/72/77/fb/e473c11c4e30a7680bf5b1b7f1d07ef04932184a2f39118e8d\r\n",
      "  Building wheel for antlr4-python3-runtime (setup.py) ... \u001b[?25l-\b \b\\\b \bdone\r\n",
      "\u001b[?25h  Created wheel for antlr4-python3-runtime: filename=antlr4_python3_runtime-4.9.3-py3-none-any.whl size=144554 sha256=c25ef86b7332fd25dda59898f5c78926c665dff881096331afcfd0cfae118593\r\n",
      "  Stored in directory: /root/.cache/pip/wheels/12/93/dd/1f6a127edc45659556564c5730f6d4e300888f4bca2d4c5a88\r\n",
      "  Building wheel for stringcase (setup.py) ... \u001b[?25l-\b \b\\\b \b|\b \bdone\r\n",
      "\u001b[?25h  Created wheel for stringcase: filename=stringcase-1.2.0-py3-none-any.whl size=3568 sha256=e5c0140610d05540f3cc6a416a8b6b9bf26b26d780dc31375acfcbbabb911e58\r\n",
      "  Stored in directory: /root/.cache/pip/wheels/31/ba/22/1a2d952a9ce8aa86e42fda41e2c87fdaf20e238c88bf8df013\r\n",
      "  Building wheel for svglib (setup.py) ... \u001b[?25l-\b \b\\\b \b|\b \bdone\r\n",
      "\u001b[?25h  Created wheel for svglib: filename=svglib-1.5.1-py3-none-any.whl size=30904 sha256=aadb5ca4404fb4add0225a4818aeec9c92e3ad11a1c3dc70daef15dc25cb263d\r\n",
      "  Stored in directory: /root/.cache/pip/wheels/56/9f/90/f37f4b9dbf82987a24ae14f15586e96715cb669a4710b3b85d\r\n",
      "Successfully built pycocotools termcolor treelib coverage xhtml2pdf antlr4-python3-runtime stringcase svglib\r\n",
      "Installing collected packages: termcolor, stringcase, pypng, json-tricks, einops, asn1crypto, arabic-reshaper, antlr4-python3-runtime, uritools, treelib, sphinxcontrib-serializinghtml, sphinxcontrib-qthelp, sphinxcontrib-jsmath, sphinxcontrib-htmlhelp, sphinxcontrib-devhelp, sphinxcontrib-applehelp, reportlab, qrcode, pyproject_hooks, pyparsing, pyDeprecate, oscrypto, omegaconf, numpy, imagesize, humanfriendly, docutils, coverage, alabaster, onnx, cssselect2, cryptography, coloredlogs, botocore, torchmetrics, svglib, sphinx, pyhanko-certvalidator, onnxsim, onnxruntime, hydra-core, build, pyHanko, pycocotools, pip-tools, imagededup, xhtml2pdf, data-gradients, super_gradients\r\n",
      "  Attempting uninstall: termcolor\r\n",
      "    Found existing installation: termcolor 2.3.0\r\n",
      "    Uninstalling termcolor-2.3.0:\r\n",
      "      Successfully uninstalled termcolor-2.3.0\r\n",
      "  Attempting uninstall: pyparsing\r\n",
      "    Found existing installation: pyparsing 3.0.9\r\n",
      "    Uninstalling pyparsing-3.0.9:\r\n",
      "      Successfully uninstalled pyparsing-3.0.9\r\n",
      "  Attempting uninstall: numpy\r\n",
      "    Found existing installation: numpy 1.24.3\r\n",
      "    Uninstalling numpy-1.24.3:\r\n",
      "      Successfully uninstalled numpy-1.24.3\r\n",
      "  Attempting uninstall: docutils\r\n",
      "    Found existing installation: docutils 0.20.1\r\n",
      "    Uninstalling docutils-0.20.1:\r\n",
      "      Successfully uninstalled docutils-0.20.1\r\n",
      "  Attempting uninstall: onnx\r\n",
      "    Found existing installation: onnx 1.15.0\r\n",
      "    Uninstalling onnx-1.15.0:\r\n",
      "      Successfully uninstalled onnx-1.15.0\r\n",
      "  Attempting uninstall: cryptography\r\n",
      "    Found existing installation: cryptography 40.0.2\r\n",
      "    Uninstalling cryptography-40.0.2:\r\n",
      "      Successfully uninstalled cryptography-40.0.2\r\n",
      "  Attempting uninstall: botocore\r\n",
      "    Found existing installation: botocore 1.33.13\r\n",
      "    Uninstalling botocore-1.33.13:\r\n",
      "      Successfully uninstalled botocore-1.33.13\r\n",
      "  Attempting uninstall: torchmetrics\r\n",
      "    Found existing installation: torchmetrics 1.2.1\r\n",
      "    Uninstalling torchmetrics-1.2.1:\r\n",
      "      Successfully uninstalled torchmetrics-1.2.1\r\n",
      "\u001b[31mERROR: pip's dependency resolver does not currently take into account all the packages that are installed. This behaviour is the source of the following dependency conflicts.\r\n",
      "cudf 23.8.0 requires cupy-cuda11x>=12.0.0, which is not installed.\r\n",
      "cuml 23.8.0 requires cupy-cuda11x>=12.0.0, which is not installed.\r\n",
      "dask-cudf 23.8.0 requires cupy-cuda11x>=12.0.0, which is not installed.\r\n",
      "aiobotocore 2.9.0 requires botocore<1.33.14,>=1.33.2, but you have botocore 1.29.165 which is incompatible.\r\n",
      "apache-beam 2.46.0 requires dill<0.3.2,>=0.3.1.1, but you have dill 0.3.7 which is incompatible.\r\n",
      "apache-beam 2.46.0 requires pyarrow<10.0.0,>=3.0.0, but you have pyarrow 11.0.0 which is incompatible.\r\n",
      "chex 0.1.85 requires numpy>=1.24.1, but you have numpy 1.23.0 which is incompatible.\r\n",
      "cudf 23.8.0 requires pandas<1.6.0dev0,>=1.3, but you have pandas 2.0.3 which is incompatible.\r\n",
      "cudf 23.8.0 requires protobuf<5,>=4.21, but you have protobuf 3.20.3 which is incompatible.\r\n",
      "cuml 23.8.0 requires dask==2023.7.1, but you have dask 2023.12.1 which is incompatible.\r\n",
      "cuml 23.8.0 requires distributed==2023.7.1, but you have distributed 2023.12.1 which is incompatible.\r\n",
      "dask-cuda 23.8.0 requires dask==2023.7.1, but you have dask 2023.12.1 which is incompatible.\r\n",
      "dask-cuda 23.8.0 requires distributed==2023.7.1, but you have distributed 2023.12.1 which is incompatible.\r\n",
      "dask-cuda 23.8.0 requires pandas<1.6.0dev0,>=1.3, but you have pandas 2.0.3 which is incompatible.\r\n",
      "dask-cudf 23.8.0 requires dask==2023.7.1, but you have dask 2023.12.1 which is incompatible.\r\n",
      "dask-cudf 23.8.0 requires distributed==2023.7.1, but you have distributed 2023.12.1 which is incompatible.\r\n",
      "dask-cudf 23.8.0 requires pandas<1.6.0dev0,>=1.3, but you have pandas 2.0.3 which is incompatible.\r\n",
      "libpysal 4.9.2 requires packaging>=22, but you have packaging 21.3 which is incompatible.\r\n",
      "libpysal 4.9.2 requires shapely>=2.0.1, but you have shapely 1.8.5.post1 which is incompatible.\r\n",
      "momepy 0.7.0 requires shapely>=2, but you have shapely 1.8.5.post1 which is incompatible.\r\n",
      "pyopenssl 23.2.0 requires cryptography!=40.0.0,!=40.0.1,<42,>=38.0.0, but you have cryptography 42.0.1 which is incompatible.\r\n",
      "pymc3 3.11.5 requires numpy<1.22.2,>=1.15.0, but you have numpy 1.23.0 which is incompatible.\r\n",
      "pymc3 3.11.5 requires scipy<1.8.0,>=1.7.3, but you have scipy 1.11.4 which is incompatible.\r\n",
      "pytoolconfig 1.2.6 requires packaging>=22.0, but you have packaging 21.3 which is incompatible.\r\n",
      "raft-dask 23.8.0 requires dask==2023.7.1, but you have dask 2023.12.1 which is incompatible.\r\n",
      "raft-dask 23.8.0 requires distributed==2023.7.1, but you have distributed 2023.12.1 which is incompatible.\r\n",
      "spopt 0.6.0 requires shapely>=2.0.1, but you have shapely 1.8.5.post1 which is incompatible.\r\n",
      "tensorflowjs 4.15.0 requires packaging~=23.1, but you have packaging 21.3 which is incompatible.\u001b[0m\u001b[31m\r\n",
      "\u001b[0mSuccessfully installed alabaster-0.7.16 antlr4-python3-runtime-4.9.3 arabic-reshaper-3.0.0 asn1crypto-1.5.1 botocore-1.29.165 build-1.0.3 coloredlogs-15.0.1 coverage-5.3.1 cryptography-42.0.1 cssselect2-0.7.0 data-gradients-0.3.2 docutils-0.17.1 einops-0.3.2 humanfriendly-10.0 hydra-core-1.3.2 imagededup-0.3.2 imagesize-1.4.1 json-tricks-3.16.1 numpy-1.23.0 omegaconf-2.3.0 onnx-1.13.0 onnxruntime-1.13.1 onnxsim-0.4.35 oscrypto-1.3.0 pip-tools-7.3.0 pyDeprecate-0.3.2 pyHanko-0.21.0 pycocotools-2.0.6 pyhanko-certvalidator-0.26.3 pyparsing-2.4.5 pypng-0.20220715.0 pyproject_hooks-1.0.0 qrcode-7.4.2 reportlab-3.6.13 sphinx-4.0.3 sphinxcontrib-applehelp-1.0.8 sphinxcontrib-devhelp-1.0.6 sphinxcontrib-htmlhelp-2.0.5 sphinxcontrib-jsmath-1.0.1 sphinxcontrib-qthelp-1.0.7 sphinxcontrib-serializinghtml-1.1.10 stringcase-1.2.0 super_gradients-3.6.0 svglib-1.5.1 termcolor-1.1.0 torchmetrics-0.8.0 treelib-1.6.1 uritools-4.0.2 xhtml2pdf-0.2.11\r\n"
     ]
    }
   ],
   "source": [
    "!pip install super_gradients\n",
    "\n"
   ]
  },
  {
   "cell_type": "code",
   "execution_count": 10,
   "id": "b183e164",
   "metadata": {
    "execution": {
     "iopub.execute_input": "2024-01-28T13:14:23.324108Z",
     "iopub.status.busy": "2024-01-28T13:14:23.323760Z",
     "iopub.status.idle": "2024-01-28T13:14:40.492958Z",
     "shell.execute_reply": "2024-01-28T13:14:40.491588Z"
    },
    "papermill": {
     "duration": 17.198913,
     "end_time": "2024-01-28T13:14:40.495430",
     "exception": false,
     "start_time": "2024-01-28T13:14:23.296517",
     "status": "completed"
    },
    "tags": []
   },
   "outputs": [
    {
     "name": "stdout",
     "output_type": "stream",
     "text": [
      "Collecting git+https://github.com/ultralytics/yolov5.git\r\n",
      "  Cloning https://github.com/ultralytics/yolov5.git to /tmp/pip-req-build-5ah7s7ut\r\n",
      "  Running command git clone --filter=blob:none --quiet https://github.com/ultralytics/yolov5.git /tmp/pip-req-build-5ah7s7ut\r\n",
      "  Resolved https://github.com/ultralytics/yolov5.git to commit 72749c1ce22f7f3b5a0a632f0dfdba70bea6c762\r\n",
      "  Installing build dependencies ... \u001b[?25l-\b \b\\\b \b|\b \b/\b \bdone\r\n",
      "\u001b[?25h  Getting requirements to build wheel ... \u001b[?25l-\b \berror\r\n",
      "  \u001b[1;31merror\u001b[0m: \u001b[1msubprocess-exited-with-error\u001b[0m\r\n",
      "  \r\n",
      "  \u001b[31m×\u001b[0m \u001b[32mGetting requirements to build wheel\u001b[0m did not run successfully.\r\n",
      "  \u001b[31m│\u001b[0m exit code: \u001b[1;36m1\u001b[0m\r\n",
      "  \u001b[31m╰─>\u001b[0m \u001b[31m[28 lines of output]\u001b[0m\r\n",
      "  \u001b[31m   \u001b[0m Traceback (most recent call last):\r\n",
      "  \u001b[31m   \u001b[0m   File \"/opt/conda/lib/python3.10/site-packages/pip/_vendor/pyproject_hooks/_in_process/_in_process.py\", line 353, in <module>\r\n",
      "  \u001b[31m   \u001b[0m     main()\r\n",
      "  \u001b[31m   \u001b[0m   File \"/opt/conda/lib/python3.10/site-packages/pip/_vendor/pyproject_hooks/_in_process/_in_process.py\", line 335, in main\r\n",
      "  \u001b[31m   \u001b[0m     json_out['return_val'] = hook(**hook_input['kwargs'])\r\n",
      "  \u001b[31m   \u001b[0m   File \"/opt/conda/lib/python3.10/site-packages/pip/_vendor/pyproject_hooks/_in_process/_in_process.py\", line 118, in get_requires_for_build_wheel\r\n",
      "  \u001b[31m   \u001b[0m     return hook(config_settings)\r\n",
      "  \u001b[31m   \u001b[0m   File \"/tmp/pip-build-env-vtl1atsl/overlay/lib/python3.10/site-packages/setuptools/build_meta.py\", line 325, in get_requires_for_build_wheel\r\n",
      "  \u001b[31m   \u001b[0m     return self._get_build_requires(config_settings, requirements=['wheel'])\r\n",
      "  \u001b[31m   \u001b[0m   File \"/tmp/pip-build-env-vtl1atsl/overlay/lib/python3.10/site-packages/setuptools/build_meta.py\", line 295, in _get_build_requires\r\n",
      "  \u001b[31m   \u001b[0m     self.run_setup()\r\n",
      "  \u001b[31m   \u001b[0m   File \"/tmp/pip-build-env-vtl1atsl/overlay/lib/python3.10/site-packages/setuptools/build_meta.py\", line 311, in run_setup\r\n",
      "  \u001b[31m   \u001b[0m     exec(code, locals())\r\n",
      "  \u001b[31m   \u001b[0m   File \"<string>\", line 1, in <module>\r\n",
      "  \u001b[31m   \u001b[0m   File \"/tmp/pip-build-env-vtl1atsl/overlay/lib/python3.10/site-packages/setuptools/__init__.py\", line 103, in setup\r\n",
      "  \u001b[31m   \u001b[0m     return distutils.core.setup(**attrs)\r\n",
      "  \u001b[31m   \u001b[0m   File \"/tmp/pip-build-env-vtl1atsl/overlay/lib/python3.10/site-packages/setuptools/_distutils/core.py\", line 159, in setup\r\n",
      "  \u001b[31m   \u001b[0m     dist.parse_config_files()\r\n",
      "  \u001b[31m   \u001b[0m   File \"/tmp/pip-build-env-vtl1atsl/overlay/lib/python3.10/site-packages/setuptools/dist.py\", line 627, in parse_config_files\r\n",
      "  \u001b[31m   \u001b[0m     pyprojecttoml.apply_configuration(self, filename, ignore_option_errors)\r\n",
      "  \u001b[31m   \u001b[0m   File \"/tmp/pip-build-env-vtl1atsl/overlay/lib/python3.10/site-packages/setuptools/config/pyprojecttoml.py\", line 66, in apply_configuration\r\n",
      "  \u001b[31m   \u001b[0m     config = read_configuration(filepath, True, ignore_option_errors, dist)\r\n",
      "  \u001b[31m   \u001b[0m   File \"/tmp/pip-build-env-vtl1atsl/overlay/lib/python3.10/site-packages/setuptools/config/pyprojecttoml.py\", line 127, in read_configuration\r\n",
      "  \u001b[31m   \u001b[0m     validate(subset, filepath)\r\n",
      "  \u001b[31m   \u001b[0m   File \"/tmp/pip-build-env-vtl1atsl/overlay/lib/python3.10/site-packages/setuptools/config/pyprojecttoml.py\", line 55, in validate\r\n",
      "  \u001b[31m   \u001b[0m     raise ValueError(f\"{error}\\n{summary}\") from None\r\n",
      "  \u001b[31m   \u001b[0m ValueError: invalid pyproject.toml config: `project`.\r\n",
      "  \u001b[31m   \u001b[0m configuration error: `project` must contain ['version'] properties\r\n",
      "  \u001b[31m   \u001b[0m \u001b[31m[end of output]\u001b[0m\r\n",
      "  \r\n",
      "  \u001b[1;35mnote\u001b[0m: This error originates from a subprocess, and is likely not a problem with pip.\r\n",
      "\u001b[1;31merror\u001b[0m: \u001b[1msubprocess-exited-with-error\u001b[0m\r\n",
      "\r\n",
      "\u001b[31m×\u001b[0m \u001b[32mGetting requirements to build wheel\u001b[0m did not run successfully.\r\n",
      "\u001b[31m│\u001b[0m exit code: \u001b[1;36m1\u001b[0m\r\n",
      "\u001b[31m╰─>\u001b[0m See above for output.\r\n",
      "\r\n",
      "\u001b[1;35mnote\u001b[0m: This error originates from a subprocess, and is likely not a problem with pip.\r\n",
      "\u001b[?25hNote: you may need to restart the kernel to use updated packages.\n"
     ]
    }
   ],
   "source": [
    "pip install git+https://github.com/ultralytics/yolov5.git\n"
   ]
  },
  {
   "cell_type": "code",
   "execution_count": 11,
   "id": "8c5809cf",
   "metadata": {
    "execution": {
     "iopub.execute_input": "2024-01-28T13:14:40.550719Z",
     "iopub.status.busy": "2024-01-28T13:14:40.550047Z",
     "iopub.status.idle": "2024-01-28T13:27:30.650873Z",
     "shell.execute_reply": "2024-01-28T13:27:30.649842Z"
    },
    "papermill": {
     "duration": 770.131015,
     "end_time": "2024-01-28T13:27:30.653305",
     "exception": false,
     "start_time": "2024-01-28T13:14:40.522290",
     "status": "completed"
    },
    "tags": []
   },
   "outputs": [
    {
     "name": "stderr",
     "output_type": "stream",
     "text": [
      "\u001b[34m\u001b[1mwandb\u001b[0m: Currently logged in as: \u001b[33mnhfahim18\u001b[0m (\u001b[33msust_nameless\u001b[0m). Use \u001b[1m`wandb login --relogin`\u001b[0m to force relogin\n"
     ]
    },
    {
     "name": "stdout",
     "output_type": "stream",
     "text": [
      "Ultralytics YOLOv8.1.6 🚀 Python-3.10.12 torch-2.0.0 CUDA:0 (Tesla T4, 15102MiB)\n",
      "                                                     CUDA:1 (Tesla T4, 15102MiB)\n",
      "\u001b[34m\u001b[1mengine/trainer: \u001b[0mtask=detect, mode=train, model=yolov6n.yaml, data=/kaggle/working/yolov8.yaml, epochs=3, time=None, patience=50, batch=32, imgsz=640, save=True, save_period=-1, cache=True, device=0,1, workers=8, project=None, name=train, exist_ok=False, pretrained=True, optimizer=auto, verbose=True, seed=0, deterministic=True, single_cls=False, rect=False, cos_lr=False, close_mosaic=10, resume=False, amp=True, fraction=1.0, profile=False, freeze=None, multi_scale=False, overlap_mask=True, mask_ratio=4, dropout=0.0, val=False, split=val, save_json=False, save_hybrid=False, conf=None, iou=0.7, max_det=300, half=False, dnn=False, plots=True, source=None, vid_stride=1, stream_buffer=False, visualize=False, augment=False, agnostic_nms=False, classes=None, retina_masks=False, embed=None, show=False, save_frames=False, save_txt=False, save_conf=False, save_crop=False, show_labels=True, show_conf=True, show_boxes=True, line_width=None, format=torchscript, keras=False, optimize=False, int8=False, dynamic=False, simplify=False, opset=None, workspace=4, nms=False, lr0=0.01, lrf=0.01, momentum=0.937, weight_decay=0.0005, warmup_epochs=3.0, warmup_momentum=0.8, warmup_bias_lr=0.1, box=7.5, cls=0.5, dfl=1.5, pose=12.0, kobj=1.0, label_smoothing=0.0, nbs=64, hsv_h=0.015, hsv_s=0.7, hsv_v=0.4, degrees=0.0, translate=0.1, scale=0.5, shear=0.0, perspective=0.0, flipud=0.0, fliplr=0.5, mosaic=1.0, mixup=0.0, copy_paste=0.0, auto_augment=randaugment, erasing=0.4, crop_fraction=1.0, cfg=None, tracker=botsort.yaml, save_dir=runs/detect/train\n",
      "Downloading https://ultralytics.com/assets/Arial.ttf to '/root/.config/Ultralytics/Arial.ttf'...\n"
     ]
    },
    {
     "name": "stderr",
     "output_type": "stream",
     "text": [
      "100%|██████████| 755k/755k [00:00<00:00, 14.7MB/s]\n",
      "2024-01-28 13:14:48,225\tINFO util.py:129 -- Outdated packages:\n",
      "  ipywidgets==7.7.1 found, needs ipywidgets>=8\n",
      "Run `pip install -U ipywidgets`, then restart the notebook server for rich notebook output.\n",
      "2024-01-28 13:14:48,762\tINFO util.py:129 -- Outdated packages:\n",
      "  ipywidgets==7.7.1 found, needs ipywidgets>=8\n",
      "Run `pip install -U ipywidgets`, then restart the notebook server for rich notebook output.\n",
      "/opt/conda/lib/python3.10/site-packages/scipy/__init__.py:146: UserWarning: A NumPy version >=1.16.5 and <1.23.0 is required for this version of SciPy (detected version 1.24.3\n",
      "  warnings.warn(f\"A NumPy version >={np_minversion} and <{np_maxversion}\"\n"
     ]
    },
    {
     "name": "stdout",
     "output_type": "stream",
     "text": [
      "Overriding model.yaml nc=80 with nc=13\n",
      "\u001b[34m\u001b[1mactivation:\u001b[0m nn.ReLU()\n",
      "\n",
      "                   from  n    params  module                                       arguments                     \n",
      "  0                  -1  1       464  ultralytics.nn.modules.conv.Conv             [3, 16, 3, 2]                 \n",
      "  1                  -1  1      4672  ultralytics.nn.modules.conv.Conv             [16, 32, 3, 2]                \n",
      "  2                  -1  2     18560  ultralytics.nn.modules.conv.Conv             [32, 32, 3, 1]                \n",
      "  3                  -1  1     18560  ultralytics.nn.modules.conv.Conv             [32, 64, 3, 2]                \n",
      "  4                  -1  4    147968  ultralytics.nn.modules.conv.Conv             [64, 64, 3, 1]                \n",
      "  5                  -1  1     73984  ultralytics.nn.modules.conv.Conv             [64, 128, 3, 2]               \n",
      "  6                  -1  6    886272  ultralytics.nn.modules.conv.Conv             [128, 128, 3, 1]              \n",
      "  7                  -1  1    295424  ultralytics.nn.modules.conv.Conv             [128, 256, 3, 2]              \n",
      "  8                  -1  2   1180672  ultralytics.nn.modules.conv.Conv             [256, 256, 3, 1]              \n",
      "  9                  -1  1    164608  ultralytics.nn.modules.block.SPPF            [256, 256, 5]                 \n",
      " 10                  -1  1     16512  ultralytics.nn.modules.conv.Conv             [256, 64, 1, 1]               \n",
      " 11                  -1  1     16448  torch.nn.modules.conv.ConvTranspose2d        [64, 64, 2, 2, 0]             \n",
      " 12             [-1, 6]  1         0  ultralytics.nn.modules.conv.Concat           [1]                           \n",
      " 13                  -1  1    110720  ultralytics.nn.modules.conv.Conv             [192, 64, 3, 1]               \n",
      " 14                  -1  3    110976  ultralytics.nn.modules.conv.Conv             [64, 64, 3, 1]                \n",
      " 15                  -1  1      2112  ultralytics.nn.modules.conv.Conv             [64, 32, 1, 1]                \n",
      " 16                  -1  1      4128  torch.nn.modules.conv.ConvTranspose2d        [32, 32, 2, 2, 0]             \n",
      " 17             [-1, 4]  1         0  ultralytics.nn.modules.conv.Concat           [1]                           \n",
      " 18                  -1  1     27712  ultralytics.nn.modules.conv.Conv             [96, 32, 3, 1]                \n",
      " 19                  -1  3     27840  ultralytics.nn.modules.conv.Conv             [32, 32, 3, 1]                \n",
      " 20                  -1  1      9280  ultralytics.nn.modules.conv.Conv             [32, 32, 3, 2]                \n",
      " 21            [-1, 15]  1         0  ultralytics.nn.modules.conv.Concat           [1]                           \n",
      " 22                  -1  1     36992  ultralytics.nn.modules.conv.Conv             [64, 64, 3, 1]                \n",
      " 23                  -1  3    110976  ultralytics.nn.modules.conv.Conv             [64, 64, 3, 1]                \n",
      " 24                  -1  1     36992  ultralytics.nn.modules.conv.Conv             [64, 64, 3, 2]                \n",
      " 25            [-1, 10]  1         0  ultralytics.nn.modules.conv.Concat           [1]                           \n",
      " 26                  -1  1    147712  ultralytics.nn.modules.conv.Conv             [128, 128, 3, 1]              \n",
      " 27                  -1  3    443136  ultralytics.nn.modules.conv.Conv             [128, 128, 3, 1]              \n",
      " 28        [19, 23, 27]  1    346711  ultralytics.nn.modules.head.Detect           [13, [32, 64, 128]]           \n",
      "YOLOv6n summary: 195 layers, 4239431 parameters, 4239415 gradients, 11.9 GFLOPs\n",
      "\n",
      "\u001b[34m\u001b[1mDDP:\u001b[0m debug command /opt/conda/bin/python -m torch.distributed.run --nproc_per_node 2 --master_port 55659 /root/.config/Ultralytics/DDP/_temp_xgg484_y137064489367680.py\n",
      "Ultralytics YOLOv8.1.6 🚀 Python-3.10.12 torch-2.0.0 CUDA:0 (Tesla T4, 15102MiB)\n",
      "                                                     CUDA:1 (Tesla T4, 15102MiB)\n"
     ]
    },
    {
     "name": "stderr",
     "output_type": "stream",
     "text": [
      "/opt/conda/lib/python3.10/site-packages/scipy/__init__.py:146: UserWarning: A NumPy version >=1.16.5 and <1.23.0 is required for this version of SciPy (detected version 1.23.0\n",
      "  warnings.warn(f\"A NumPy version >={np_minversion} and <{np_maxversion}\"\n"
     ]
    },
    {
     "name": "stdout",
     "output_type": "stream",
     "text": [
      "\u001b[34m\u001b[1mTensorBoard: \u001b[0mStart with 'tensorboard --logdir runs/detect/train', view at http://localhost:6006/\n"
     ]
    },
    {
     "name": "stderr",
     "output_type": "stream",
     "text": [
      "wandb: Currently logged in as: nhfahim18 (sust_nameless). Use `wandb login --relogin` to force relogin\n",
      "wandb: Tracking run with wandb version 0.16.2\n",
      "wandb: Run data is saved locally in /kaggle/working/wandb/run-20240128_131512-2oa5zxq1\n",
      "wandb: Run `wandb offline` to turn off syncing.\n",
      "wandb: Syncing run train\n",
      "wandb: ⭐️ View project at https://wandb.ai/sust_nameless/YOLOv8\n",
      "wandb: 🚀 View run at https://wandb.ai/sust_nameless/YOLOv8/runs/2oa5zxq1\n"
     ]
    },
    {
     "name": "stdout",
     "output_type": "stream",
     "text": [
      "Overriding model.yaml nc=80 with nc=13\n",
      "Freezing layer 'model.28.dfl.conv.weight'\n",
      "\u001b[34m\u001b[1mAMP: \u001b[0mrunning Automatic Mixed Precision (AMP) checks with YOLOv8n...\n",
      "Downloading https://github.com/ultralytics/assets/releases/download/v8.1.0/yolov8n.pt to 'yolov8n.pt'...\n"
     ]
    },
    {
     "name": "stderr",
     "output_type": "stream",
     "text": [
      "100%|██████████| 6.23M/6.23M [00:00<00:00, 73.9MB/s]\n"
     ]
    },
    {
     "name": "stdout",
     "output_type": "stream",
     "text": [
      "\u001b[34m\u001b[1mAMP: \u001b[0mchecks passed ✅\n"
     ]
    },
    {
     "name": "stderr",
     "output_type": "stream",
     "text": [
      "\u001b[34m\u001b[1mtrain: \u001b[0mScanning /kaggle/working/datasets/badodd/labels/train... 5896 images, 0 backgrounds, 0 corrupt: 100%|██████████| 5896/5896 [00:21<00:00, 268.58it/s]\n"
     ]
    },
    {
     "name": "stdout",
     "output_type": "stream",
     "text": [
      "\u001b[34m\u001b[1mtrain: \u001b[0mNew cache created: /kaggle/working/datasets/badodd/labels/train.cache\n"
     ]
    },
    {
     "name": "stderr",
     "output_type": "stream",
     "text": [
      "\u001b[34m\u001b[1mtrain: \u001b[0mCaching images (3.8GB True): 100%|██████████| 5896/5896 [01:06<00:00, 88.99it/s]\n"
     ]
    },
    {
     "name": "stdout",
     "output_type": "stream",
     "text": [
      "\u001b[34m\u001b[1malbumentations: \u001b[0mBlur(p=0.01, blur_limit=(3, 7)), MedianBlur(p=0.01, blur_limit=(3, 7)), ToGray(p=0.01), CLAHE(p=0.01, clip_limit=(1, 4.0), tile_grid_size=(8, 8))\n"
     ]
    },
    {
     "name": "stderr",
     "output_type": "stream",
     "text": [
      "\u001b[34m\u001b[1mval: \u001b[0mScanning /kaggle/working/datasets/badodd/labels/train.cache... 5896 images, 0 backgrounds, 0 corrupt: 100%|██████████| 5896/5896 [00:00<?, ?it/s]\n",
      "\u001b[34m\u001b[1mval: \u001b[0mCaching images (3.8GB True):  99%|█████████▉| 5847/5896 [02:00<00:00, 88.57it/s]/opt/conda/lib/python3.10/site-packages/scipy/__init__.py:146: UserWarning: A NumPy version >=1.16.5 and <1.23.0 is required for this version of SciPy (detected version 1.23.0\n",
      "  warnings.warn(f\"A NumPy version >={np_minversion} and <{np_maxversion}\"\n",
      "\u001b[34m\u001b[1mval: \u001b[0mCaching images (3.8GB True): 100%|██████████| 5896/5896 [02:00<00:00, 48.95it/s] \n"
     ]
    },
    {
     "name": "stdout",
     "output_type": "stream",
     "text": [
      "Plotting labels to runs/detect/train/labels.jpg... \n",
      "\u001b[34m\u001b[1moptimizer:\u001b[0m 'optimizer=auto' found, ignoring 'lr0=0.01' and 'momentum=0.937' and determining best 'optimizer', 'lr0' and 'momentum' automatically... \n",
      "\u001b[34m\u001b[1moptimizer:\u001b[0m AdamW(lr=0.000714, momentum=0.9) with parameter groups 53 weight(decay=0.0), 62 weight(decay=0.0005), 61 bias(decay=0.0)\n",
      "\u001b[34m\u001b[1mTensorBoard: \u001b[0mmodel graph visualization added ✅\n",
      "Image sizes 640 train, 640 val\n",
      "Using 4 dataloader workers\n",
      "Logging results to \u001b[1mruns/detect/train\u001b[0m\n",
      "Starting training for 3 epochs...\n",
      "\n",
      "      Epoch    GPU_mem   box_loss   cls_loss   dfl_loss  Instances       Size\n"
     ]
    },
    {
     "name": "stderr",
     "output_type": "stream",
     "text": [
      "        1/3      1.92G      3.544      4.436      3.748         50        640: 100%|██████████| 185/185 [02:05<00:00,  1.48it/s]\n"
     ]
    },
    {
     "name": "stdout",
     "output_type": "stream",
     "text": [
      "\n",
      "      Epoch    GPU_mem   box_loss   cls_loss   dfl_loss  Instances       Size\n"
     ]
    },
    {
     "name": "stderr",
     "output_type": "stream",
     "text": [
      "        2/3      1.75G      2.633      3.065      2.458         46        640: 100%|██████████| 185/185 [01:57<00:00,  1.57it/s]\n"
     ]
    },
    {
     "name": "stdout",
     "output_type": "stream",
     "text": [
      "\n",
      "      Epoch    GPU_mem   box_loss   cls_loss   dfl_loss  Instances       Size\n"
     ]
    },
    {
     "name": "stderr",
     "output_type": "stream",
     "text": [
      "        3/3      1.81G      2.317      2.651      2.087         33        640: 100%|██████████| 185/185 [01:58<00:00,  1.55it/s]\n",
      "                 Class     Images  Instances      Box(P          R      mAP50  mAP50-95): 100%|██████████| 185/185 [00:43<00:00,  4.26it/s]\n"
     ]
    },
    {
     "name": "stdout",
     "output_type": "stream",
     "text": [
      "                   all       5896      47118      0.446      0.106     0.0901     0.0448\n",
      "\n",
      "3 epochs completed in 0.117 hours.\n",
      "Optimizer stripped from runs/detect/train/weights/last.pt, 8.7MB\n",
      "Optimizer stripped from runs/detect/train/weights/best.pt, 8.7MB\n",
      "\n",
      "Validating runs/detect/train/weights/best.pt...\n",
      "Ultralytics YOLOv8.1.6 🚀 Python-3.10.12 torch-2.0.0 CUDA:0 (Tesla T4, 15102MiB)\n",
      "                                                     CUDA:1 (Tesla T4, 15102MiB)\n",
      "YOLOv6n summary (fused): 142 layers, 4235031 parameters, 0 gradients, 11.8 GFLOPs\n"
     ]
    },
    {
     "name": "stderr",
     "output_type": "stream",
     "text": [
      "                 Class     Images  Instances      Box(P          R      mAP50  mAP50-95): 100%|██████████| 185/185 [00:37<00:00,  4.92it/s]\n"
     ]
    },
    {
     "name": "stdout",
     "output_type": "stream",
     "text": [
      "                   all       5896      47118      0.446      0.106     0.0901     0.0449\n",
      "         auto_rickshaw       5896      10614      0.343      0.526      0.398      0.234\n",
      "               bicycle       5896        673          1          0    0.00697     0.0023\n",
      "                   bus       5896       1885     0.0212    0.00743     0.0123    0.00531\n",
      "                   car       5896       3785      0.334      0.132      0.121     0.0559\n",
      "          cart_vehicle       5896        141          0          0          0          0\n",
      "  construction_vehicle       5896         23          1          0          0          0\n",
      "             motorbike       5896       3749      0.301      0.224      0.181     0.0704\n",
      "                person       5896      18010       0.18      0.238      0.141      0.049\n",
      "      priority_vehicle       5896        229          1          0     0.0102    0.00559\n",
      "         three_wheeler       5896       5710      0.511      0.229      0.266      0.146\n",
      "                 train       5896          1          1          0          0          0\n",
      "                 truck       5896       2296      0.112     0.0213     0.0337      0.015\n",
      "            wheelchair       5896          2          0          0          0          0\n",
      "Speed: 0.1ms preprocess, 1.1ms inference, 0.0ms loss, 1.3ms postprocess per image\n",
      "Results saved to \u001b[1mruns/detect/train\u001b[0m\n"
     ]
    },
    {
     "name": "stderr",
     "output_type": "stream",
     "text": [
      "wandb:                                                                                \n",
      "wandb: \n",
      "wandb: Run history:\n",
      "wandb:                  lr/pg0 ▁█▁\n",
      "wandb:                  lr/pg1 ▁█▁\n",
      "wandb:                  lr/pg2 ▁█▁\n",
      "wandb:        metrics/mAP50(B) ▁▁█\n",
      "wandb:     metrics/mAP50-95(B) ▁▁█\n",
      "wandb:    metrics/precision(B) ▁▁█\n",
      "wandb:       metrics/recall(B) ▁▁█\n",
      "wandb:            model/GFLOPs ▁\n",
      "wandb:        model/parameters ▁\n",
      "wandb: model/speed_PyTorch(ms) ▁\n",
      "wandb:          train/box_loss █▃▁\n",
      "wandb:          train/cls_loss █▃▁\n",
      "wandb:          train/dfl_loss █▃▁\n",
      "wandb:            val/box_loss ▁▁█\n",
      "wandb:            val/cls_loss ▁▁█\n",
      "wandb:            val/dfl_loss ▁▁█\n",
      "wandb: \n",
      "wandb: Run summary:\n",
      "wandb:                  lr/pg0 0.00024\n",
      "wandb:                  lr/pg1 0.00024\n",
      "wandb:                  lr/pg2 0.00024\n",
      "wandb:        metrics/mAP50(B) 0.0901\n",
      "wandb:     metrics/mAP50-95(B) 0.04485\n",
      "wandb:    metrics/precision(B) 0.44633\n",
      "wandb:       metrics/recall(B) 0.10594\n",
      "wandb:            model/GFLOPs 11.876\n",
      "wandb:        model/parameters 4239431\n",
      "wandb: model/speed_PyTorch(ms) 0.0\n",
      "wandb:          train/box_loss 2.31666\n",
      "wandb:          train/cls_loss 2.65068\n",
      "wandb:          train/dfl_loss 2.08741\n",
      "wandb:            val/box_loss 2.26231\n",
      "wandb:            val/cls_loss 2.59062\n",
      "wandb:            val/dfl_loss 1.97974\n",
      "wandb: \n",
      "wandb: 🚀 View run train at: https://wandb.ai/sust_nameless/YOLOv8/runs/2oa5zxq1\n",
      "wandb: Synced 6 W&B file(s), 30 media file(s), 5 artifact file(s) and 0 other file(s)\n",
      "wandb: Find logs at: ./wandb/run-20240128_131512-2oa5zxq1/logs\n"
     ]
    }
   ],
   "source": [
    "import wandb\n",
    "import os\n",
    "\n",
    "# Set W&B API key as an environment variable\n",
    "os.environ[\"WANDB_API_KEY\"] = \"9b71ed3001172396cf4c14f47917c10390f93ab3\"\n",
    "\n",
    "# Log in to W&B using the environment variable\n",
    "wandb.login()\n",
    "\n",
    "from ultralytics import YOLO\n",
    "\n",
    "# Build a YOLOv6n model from scratch\n",
    "model = YOLO('yolov6n.yaml')\n",
    "\n",
    "# Load a pretrained model (recommended for training)\n",
    "\n",
    "# Train the model with 2 GPUs\n",
    "model.train(data='/kaggle/working/yolov8.yaml', epochs=3, imgsz=640, batch=32, device='0,1', cache=True, val=False)\n"
   ]
  },
  {
   "cell_type": "code",
   "execution_count": 12,
   "id": "f2003968",
   "metadata": {
    "execution": {
     "iopub.execute_input": "2024-01-28T13:27:30.989183Z",
     "iopub.status.busy": "2024-01-28T13:27:30.987968Z",
     "iopub.status.idle": "2024-01-28T13:28:54.968473Z",
     "shell.execute_reply": "2024-01-28T13:28:54.967494Z"
    },
    "papermill": {
     "duration": 84.148495,
     "end_time": "2024-01-28T13:28:54.970563",
     "exception": false,
     "start_time": "2024-01-28T13:27:30.822068",
     "status": "completed"
    },
    "tags": []
   },
   "outputs": [
    {
     "name": "stderr",
     "output_type": "stream",
     "text": [
      "1964it [01:23, 23.41it/s]\n"
     ]
    }
   ],
   "source": [
    "# get prediction boxes string according to the submission format ...\n",
    "\n",
    "def get_prediction_string(boxes, scores, classes):\n",
    "    pred_strs = []\n",
    "    for i, score in enumerate(scores):\n",
    "        single_pred_str = \"\"\n",
    "        single_pred_str += str(float(classes[i])) + \" \" + str(float(score)) + \" \"\n",
    "        \n",
    "        x_center , y_center, width,height = boxes[i]\n",
    "        x1 = float(x_center) - (float(width) / 2)\n",
    "        y1 = float(y_center) - (float(height) / 2)\n",
    "        width = float(width)\n",
    "        height = float(height)\n",
    "        #single_pred_str += \" \".join(str(float(x)) for x in boxes[i])\n",
    "        single_pred_str +=  f\"{x1} {y1} {width} {height}\"\n",
    "        \n",
    "        pred_strs.append(single_pred_str)\n",
    "    ans = ','.join(map(str, pred_strs))\n",
    "    if len(ans):\n",
    "        return ans\n",
    "#     the solution metrics faield in case of a NaN, '' (empty). So, return \"0 0 0 0 0 0\" for NaN, '' (empty) string\n",
    "    return \"0 0 0 0 0 0\"\n",
    "\n",
    "# get the predcition in id, ImageID, PredictionString_pred foramt ...\n",
    "\n",
    "def get_prediction_entry(i, filename, boxes, scores, classes):\n",
    "    return {\n",
    "        \"id\": i, # strating from 0 ...\n",
    "        \"ImageID\": filename.split('.')[0], # before the extension ...\n",
    "        \"PredictionString_pred\": get_prediction_string(boxes, scores, classes)\n",
    "    }\n",
    "\n",
    "# Directory path ...\n",
    "test_directory = \"/kaggle/input/dl-enigma-10-sust-cse-carnival-2024/dlenigma1/BadODD/images/test\"\n",
    "\n",
    "# Load the model ...\n",
    "model = YOLO('/kaggle/working/runs/detect/train/weights/best.pt')\n",
    "\n",
    "# do the inference ...\n",
    "\n",
    "def predict_all_files(test_directory):\n",
    "    predictions = []\n",
    "    for i,filename in tqdm(enumerate(os.listdir(test_directory))):\n",
    "        if filename.endswith(\".jpg\"):\n",
    "            filepath = os.path.join(test_directory, filename)\n",
    "            results = model.predict(source=filepath, conf=0.50, verbose=False)\n",
    "            boxes = results[0].boxes.xywhn\n",
    "            scores = results[0].boxes.conf\n",
    "            classes = results[0].boxes.cls\n",
    "            prediction = get_prediction_entry(i, filename, boxes, scores, classes)\n",
    "            predictions.append(prediction)\n",
    "#             to csv format ...\n",
    "    predictions_df = pd.DataFrame(predictions)\n",
    "    predictions_df.to_csv(\"submission.csv\", index=False)\n",
    "\n",
    "# call the inference function ...\n",
    "predict_all_files(test_directory)"
   ]
  },
  {
   "cell_type": "code",
   "execution_count": 13,
   "id": "aa0b4cfc",
   "metadata": {
    "execution": {
     "iopub.execute_input": "2024-01-28T13:28:55.454674Z",
     "iopub.status.busy": "2024-01-28T13:28:55.453785Z",
     "iopub.status.idle": "2024-01-28T13:28:55.463788Z",
     "shell.execute_reply": "2024-01-28T13:28:55.463099Z"
    },
    "papermill": {
     "duration": 0.275011,
     "end_time": "2024-01-28T13:28:55.465654",
     "exception": false,
     "start_time": "2024-01-28T13:28:55.190643",
     "status": "completed"
    },
    "tags": []
   },
   "outputs": [],
   "source": [
    "# load the submission dataframe ....\n",
    "\n",
    "submission_df = pd.read_csv('/kaggle/working/submission.csv')"
   ]
  },
  {
   "cell_type": "code",
   "execution_count": 14,
   "id": "f88001c0",
   "metadata": {
    "execution": {
     "iopub.execute_input": "2024-01-28T13:28:55.906229Z",
     "iopub.status.busy": "2024-01-28T13:28:55.905864Z",
     "iopub.status.idle": "2024-01-28T13:28:55.920301Z",
     "shell.execute_reply": "2024-01-28T13:28:55.919388Z"
    },
    "papermill": {
     "duration": 0.237803,
     "end_time": "2024-01-28T13:28:55.922287",
     "exception": false,
     "start_time": "2024-01-28T13:28:55.684484",
     "status": "completed"
    },
    "tags": []
   },
   "outputs": [
    {
     "data": {
      "text/html": [
       "<div>\n",
       "<style scoped>\n",
       "    .dataframe tbody tr th:only-of-type {\n",
       "        vertical-align: middle;\n",
       "    }\n",
       "\n",
       "    .dataframe tbody tr th {\n",
       "        vertical-align: top;\n",
       "    }\n",
       "\n",
       "    .dataframe thead th {\n",
       "        text-align: right;\n",
       "    }\n",
       "</style>\n",
       "<table border=\"1\" class=\"dataframe\">\n",
       "  <thead>\n",
       "    <tr style=\"text-align: right;\">\n",
       "      <th></th>\n",
       "      <th>id</th>\n",
       "      <th>ImageID</th>\n",
       "      <th>PredictionString_pred</th>\n",
       "    </tr>\n",
       "  </thead>\n",
       "  <tbody>\n",
       "    <tr>\n",
       "      <th>1959</th>\n",
       "      <td>1959</td>\n",
       "      <td>mymensingh1_90013</td>\n",
       "      <td>0.0 0.8182455897331238 0.25866813212633133 0.1...</td>\n",
       "    </tr>\n",
       "    <tr>\n",
       "      <th>1960</th>\n",
       "      <td>1960</td>\n",
       "      <td>chittagong_bohoddarhat2_8673</td>\n",
       "      <td>0 0 0 0 0 0</td>\n",
       "    </tr>\n",
       "    <tr>\n",
       "      <th>1961</th>\n",
       "      <td>1961</td>\n",
       "      <td>sylhet1_32475</td>\n",
       "      <td>0.0 0.9967567324638367 0.23940721154212952 0.0...</td>\n",
       "    </tr>\n",
       "    <tr>\n",
       "      <th>1962</th>\n",
       "      <td>1962</td>\n",
       "      <td>chittagong_night1_12840</td>\n",
       "      <td>0 0 0 0 0 0</td>\n",
       "    </tr>\n",
       "    <tr>\n",
       "      <th>1963</th>\n",
       "      <td>1963</td>\n",
       "      <td>chuadanga_sirajganj1_10320</td>\n",
       "      <td>0 0 0 0 0 0</td>\n",
       "    </tr>\n",
       "  </tbody>\n",
       "</table>\n",
       "</div>"
      ],
      "text/plain": [
       "        id                       ImageID  \\\n",
       "1959  1959             mymensingh1_90013   \n",
       "1960  1960  chittagong_bohoddarhat2_8673   \n",
       "1961  1961                 sylhet1_32475   \n",
       "1962  1962       chittagong_night1_12840   \n",
       "1963  1963    chuadanga_sirajganj1_10320   \n",
       "\n",
       "                                  PredictionString_pred  \n",
       "1959  0.0 0.8182455897331238 0.25866813212633133 0.1...  \n",
       "1960                                        0 0 0 0 0 0  \n",
       "1961  0.0 0.9967567324638367 0.23940721154212952 0.0...  \n",
       "1962                                        0 0 0 0 0 0  \n",
       "1963                                        0 0 0 0 0 0  "
      ]
     },
     "execution_count": 14,
     "metadata": {},
     "output_type": "execute_result"
    }
   ],
   "source": [
    "# preview ...\n",
    "\n",
    "submission_df.tail()"
   ]
  }
 ],
 "metadata": {
  "kaggle": {
   "accelerator": "nvidiaTeslaT4",
   "dataSources": [
    {
     "databundleVersionId": 7527339,
     "sourceId": 67836,
     "sourceType": "competition"
    },
    {
     "isSourceIdPinned": true,
     "modelInstanceId": 1199,
     "sourceId": 1418,
     "sourceType": "modelInstanceVersion"
    }
   ],
   "dockerImageVersionId": 30636,
   "isGpuEnabled": true,
   "isInternetEnabled": true,
   "language": "python",
   "sourceType": "notebook"
  },
  "kernelspec": {
   "display_name": "Python 3",
   "language": "python",
   "name": "python3"
  },
  "language_info": {
   "codemirror_mode": {
    "name": "ipython",
    "version": 3
   },
   "file_extension": ".py",
   "mimetype": "text/x-python",
   "name": "python",
   "nbconvert_exporter": "python",
   "pygments_lexer": "ipython3",
   "version": "3.10.12"
  },
  "papermill": {
   "default_parameters": {},
   "duration": 1021.193373,
   "end_time": "2024-01-28T13:28:59.449964",
   "environment_variables": {},
   "exception": null,
   "input_path": "__notebook__.ipynb",
   "output_path": "__notebook__.ipynb",
   "parameters": {},
   "start_time": "2024-01-28T13:11:58.256591",
   "version": "2.4.0"
  }
 },
 "nbformat": 4,
 "nbformat_minor": 5
}
